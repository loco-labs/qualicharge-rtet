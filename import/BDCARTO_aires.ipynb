{
 "cells": [
  {
   "cell_type": "markdown",
   "id": "c150ca97-dad1-4024-a025-f57f4092cec4",
   "metadata": {},
   "source": [
    "# import des aires de services de BD CARTO"
   ]
  },
  {
   "cell_type": "code",
   "execution_count": 1,
   "id": "de1f50ff-74e9-484e-834b-71b63f0d07ec",
   "metadata": {},
   "outputs": [],
   "source": [
    "import geopandas as gpd\n",
    "import pandas as pd"
   ]
  },
  {
   "cell_type": "code",
   "execution_count": 2,
   "id": "ba4b5e8c-95dc-4991-b53c-9a4488e4b07a",
   "metadata": {},
   "outputs": [],
   "source": [
    "NATURE = ['Carrefour',\n",
    " 'Aire de repos ou de service',\n",
    " 'Péage',\n",
    " 'Arrêt voyageurs',\n",
    " 'Port',\n",
    " 'Aérogare',\n",
    " 'Gare voyageurs uniquement',\n",
    " 'Gare voyageurs et fret',\n",
    " 'Gare fret uniquement',\n",
    " 'Gare maritime']\n",
    "NAT_DETAIL = ['Echangeur partiel',\n",
    " 'Echangeur',\n",
    " 'Aire de service',\n",
    " 'Echangeur complet',\n",
    " None,\n",
    " 'Arrêt touristique saisonnier',\n",
    " 'Port de plaisance',\n",
    " 'Aire de repos',\n",
    " 'Gare TGV']\n",
    "ECHANGEURS = ['Echangeur partiel', 'Echangeur', 'Echangeur complet']\n",
    "# AIRES = ['Aire de service', 'Aire de repos']\n",
    "AIRES = ['Aire de service']\n",
    "BDCARTO = \"../../BDCARTO/\"\n",
    "FILE_DATA_CARTO = \"/TRANSPORT/EQUIPEMENT_DE_TRANSPORT.shx\"\n",
    "QUALICHARGE_RTET = \"../data/BDCARTO/\""
   ]
  },
  {
   "cell_type": "code",
   "execution_count": 3,
   "id": "443df285-1ce2-4038-90d1-7b3f4e9d6c89",
   "metadata": {},
   "outputs": [],
   "source": [
    "# nature = list(pd.unique(noeuds['NATURE']))\n",
    "# nat_det =list(pd.unique(noeuds['NAT_DETAIL']))"
   ]
  },
  {
   "cell_type": "code",
   "execution_count": 4,
   "id": "a240476a-aec1-4b5b-929a-71b84810a6eb",
   "metadata": {},
   "outputs": [],
   "source": [
    "def genere_nature_json(all_noeuds, region, type_noeud, save=True):\n",
    "\n",
    "    noeuds_nat = all_noeuds.set_index('NAT_DETAIL')\n",
    "    noeuds_gpd = None\n",
    "    \n",
    "    if type_noeud == 'aires' and set(AIRES) & set(list(pd.unique(all_noeuds['NAT_DETAIL']))):  \n",
    "        noeuds = noeuds_nat.loc[AIRES, ['ID', 'geometry']]  # -> 75\n",
    "        noeuds_gpd = gpd.GeoDataFrame(noeuds, crs=2154).reset_index()\n",
    "        \n",
    "    elif type_noeud == 'echangeurs' and set(ECHANGEURS) & set(list(pd.unique(all_noeuds['NAT_DETAIL']))):\n",
    "        noeuds = noeuds_nat.loc[ECHANGEURS, ['ID', 'geometry']]  # -> 75\n",
    "        noeuds_gpd = gpd.GeoDataFrame(noeuds, crs=2154).reset_index()\n",
    "\n",
    "    if save and noeuds_gpd is not None:\n",
    "        noeuds_gpd.to_file(QUALICHARGE_RTET + \"noeuds_\" + type_noeud + \"_\" + region + \".geojson\", driver= \"GeoJSON\")\n",
    "    \n",
    "    return noeuds_gpd"
   ]
  },
  {
   "cell_type": "code",
   "execution_count": 7,
   "id": "50ecd38a-a8ce-49c3-ae40-db18dab818bd",
   "metadata": {
    "scrolled": true
   },
   "outputs": [
    {
     "name": "stdout",
     "output_type": "stream",
     "text": [
      "aquitaine  :  66 66\n",
      "bourgogne  :  40 106\n",
      "bretagne  :  21 127\n",
      "centre  :  36 163\n",
      "grand_est  :  51 214\n",
      "hauts_de_france  :  40 254\n",
      "ile_de_france  :  42 296\n",
      "loire  :  32 328\n",
      "normandie  :  18 346\n",
      "occitanie  :  42 388\n",
      "PACA  :  37 425\n",
      "rhone_alpes  :  84 509\n"
     ]
    }
   ],
   "source": [
    "regions = [\"aquitaine\", \"bourgogne\", \"bretagne\", \"centre\", \"corse\", \"grand_est\", \"hauts_de_france\", \n",
    "           \"ile_de_france\", \"loire\", \"normandie\", \"occitanie\", \"PACA\", \"rhone_alpes\"]\n",
    "type_noeud = \"aires\"\n",
    "first = True\n",
    "\n",
    "for region in regions:\n",
    "    noeuds = gpd.read_file(BDCARTO + region + FILE_DATA_CARTO)\n",
    "    #print(noeuds)\n",
    "    noeuds_gpd = genere_nature_json(noeuds, region, type_noeud)\n",
    "    if noeuds_gpd is None:\n",
    "        continue\n",
    "    if first:\n",
    "        all_regions = noeuds_gpd\n",
    "    else:\n",
    "        all_regions = pd.concat([all_regions, noeuds_gpd])\n",
    "    first=False\n",
    "    print(region, ' : ', len(noeuds_gpd), len(all_regions))\n",
    "\n",
    "all_regions.to_file(QUALICHARGE_RTET + \"noeuds_\" + type_noeud + \"_all.geojson\", driver= \"GeoJSON\")"
   ]
  }
 ],
 "metadata": {
  "kernelspec": {
   "display_name": "Python 3 (ipykernel)",
   "language": "python",
   "name": "python3"
  },
  "language_info": {
   "codemirror_mode": {
    "name": "ipython",
    "version": 3
   },
   "file_extension": ".py",
   "mimetype": "text/x-python",
   "name": "python",
   "nbconvert_exporter": "python",
   "pygments_lexer": "ipython3",
   "version": "3.12.4"
  }
 },
 "nbformat": 4,
 "nbformat_minor": 5
}
