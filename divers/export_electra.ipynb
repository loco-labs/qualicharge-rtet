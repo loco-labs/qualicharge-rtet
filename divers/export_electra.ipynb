{
 "cells": [
  {
   "cell_type": "markdown",
   "id": "71ed766b-e636-4228-88f4-bd978330f78a",
   "metadata": {},
   "source": [
    "# export données Electra"
   ]
  },
  {
   "cell_type": "code",
   "execution_count": 2,
   "id": "dbd3d86a-7b5b-43cf-8a1e-13885b92fbd4",
   "metadata": {},
   "outputs": [],
   "source": [
    "import os\n",
    "import pandas as pd"
   ]
  },
  {
   "cell_type": "code",
   "execution_count": 41,
   "id": "726ad4c6-91f1-43e6-8931-72b1b78ea2c6",
   "metadata": {},
   "outputs": [],
   "source": [
    "query = \"\"\"\n",
    "SELECT\n",
    "  --status.*\n",
    "  count(*)\n",
    "FROM\n",
    "  status\n",
    "  INNER JOIN statique ON pdc_id = point_de_charge_id\n",
    "WHERE\n",
    "  horodatage >= {{start}}\n",
    "  AND horodatage < {{end}}\n",
    "  and {{operateur}}\n",
    "\"\"\""
   ]
  },
  {
   "cell_type": "code",
   "execution_count": 56,
   "id": "30f94706-0288-4405-9405-3fa23a8c4ac8",
   "metadata": {},
   "outputs": [
    {
     "name": "stdout",
     "output_type": "stream",
     "text": [
      "query_result_2025-06-03T12_50_22.54613556+02_00.json\n",
      "query_result_2025-06-03T12_51_10.455487098+02_00.json\n",
      "query_result_2025-06-03T12_51_36.378400782+02_00.json\n",
      "query_result_2025-06-03T12_51_59.964266869+02_00.json\n",
      "query_result_2025-06-03T12_52_23.912640018+02_00.json\n",
      "query_result_2025-06-03T12_52_44.614549377+02_00.json\n",
      "query_result_2025-06-03T12_53_07.880778805+02_00.json\n",
      "query_result_2025-06-03T12_53_29.947683031+02_00.json\n",
      "query_result_2025-06-03T12_53_55.830990361+02_00.json\n",
      "query_result_2025-06-03T12_54_19.153085432+02_00.json\n",
      "query_result_2025-06-03T12_54_56.040432674+02_00.json\n",
      "query_result_2025-06-03T12_55_17.602552734+02_00.json\n",
      "query_result_2025-06-03T12_55_48.880679198+02_00.json\n",
      "query_result_2025-06-03T12_56_11.950808231+02_00.json\n",
      "query_result_2025-06-03T12_56_40.769931404+02_00.json\n"
     ]
    }
   ],
   "source": [
    "dir_electra = '../../export electra'\n",
    "dir_date = '01-06-2025'\n",
    "dir_file = dir_electra + '/' + dir_date\n",
    "for file_name in os.listdir(dir_file):\n",
    "    print(file_name)"
   ]
  },
  {
   "cell_type": "code",
   "execution_count": 57,
   "id": "16190d38-dbe8-48b8-89d3-a70c6f6d5b63",
   "metadata": {
    "scrolled": true
   },
   "outputs": [
    {
     "name": "stdout",
     "output_type": "stream",
     "text": [
      "20877\n"
     ]
    }
   ],
   "source": [
    "liste_statuses = [pd.read_json(dir_file + '/' + file, orient='records') for file in os.listdir(dir_file)]\n",
    "all_statuses = pd.concat(liste_statuses , ignore_index=True)\n",
    "print(len(all_statuses))"
   ]
  },
  {
   "cell_type": "code",
   "execution_count": 44,
   "id": "5ab12896-d61c-4ad7-8c43-2d708cb846e1",
   "metadata": {},
   "outputs": [],
   "source": [
    "#all_statuses"
   ]
  },
  {
   "cell_type": "code",
   "execution_count": 45,
   "id": "e0d71a6c-dea7-426c-b615-603ae43dfd74",
   "metadata": {},
   "outputs": [],
   "source": [
    "#all_statuses.to_json('export_status_electra_26-05-2025.json')"
   ]
  },
  {
   "cell_type": "code",
   "execution_count": 58,
   "id": "714a0c70-a5d5-48f3-8c4c-1bf6b1901961",
   "metadata": {},
   "outputs": [],
   "source": [
    "all_statuses.to_csv('export_status_electra_' + dir_date + '.csv', na_rep='null')"
   ]
  },
  {
   "cell_type": "markdown",
   "id": "fab3f96f-611e-4920-876e-354e37372ec2",
   "metadata": {},
   "source": [
    "## Export du lien pdc_id et id_pdc_itinerance"
   ]
  },
  {
   "cell_type": "code",
   "execution_count": null,
   "id": "4f7fd22f-3d88-438b-8000-5dfed6a5f9ce",
   "metadata": {},
   "outputs": [],
   "source": [
    "query = \"\"\"\n",
    "SELECT\n",
    "  id_pdc_itinerance,\n",
    "  point_de_charge_id\n",
    "FROM\n",
    "  status\n",
    "  INNER JOIN PointDeCharge ON point_de_charge_id = PointDeCharge.id \n",
    "  LEFT JOIN station ON station_id = station.id\n",
    "  INNER JOIN operateur ON Station.operateur_id = operateur.id\n",
    "WHERE\n",
    "  {{operateur}}\n",
    "  AND horodatage >= {{start}}\n",
    "  AND horodatage < {{end}}\n",
    "  --AND {{region}} [[AND {{departement}}]]\n",
    "GROUP BY\n",
    "  id_pdc_itinerance,\n",
    "  point_de_charge_id\n",
    "\"\"\""
   ]
  },
  {
   "cell_type": "code",
   "execution_count": 3,
   "id": "a1166a90-2f1a-4ad8-86a0-b2d9caa8633c",
   "metadata": {},
   "outputs": [
    {
     "name": "stdout",
     "output_type": "stream",
     "text": [
      "query_result_2025-06-03T22_35_02.858383538+02_00.json\n",
      "query_result_2025-06-03T22_35_32.873908186+02_00.json\n",
      "query_result_2025-06-03T22_35_56.176377434+02_00.json\n",
      "query_result_2025-06-03T22_36_24.649066725+02_00.json\n",
      "query_result_2025-06-03T22_36_48.620030863+02_00.json\n",
      "query_result_2025-06-03T22_37_18.216804556+02_00.json\n",
      "query_result_2025-06-03T22_37_44.176662527+02_00.json\n"
     ]
    }
   ],
   "source": [
    "dir_electra = '../../export electra'\n",
    "dir_date = 'lien_id_pdc'\n",
    "dir_file = dir_electra + '/' + dir_date\n",
    "for file_name in os.listdir(dir_file):\n",
    "    print(file_name)"
   ]
  },
  {
   "cell_type": "code",
   "execution_count": 9,
   "id": "2798d4de-f474-4c4e-94f5-40416ad5bc10",
   "metadata": {
    "scrolled": true
   },
   "outputs": [
    {
     "name": "stdout",
     "output_type": "stream",
     "text": [
      "2149\n"
     ]
    }
   ],
   "source": [
    "liste_lien_id = [pd.read_json(dir_file + '/' + file, orient='records') for file in os.listdir(dir_file)]\n",
    "lien_id = pd.concat(liste_lien_id , ignore_index=True).groupby('id_pdc_itinerance').first().reset_index()\n",
    "print(len(lien_id))"
   ]
  },
  {
   "cell_type": "code",
   "execution_count": 10,
   "id": "5cb263af-d17a-47c2-a902-14fc9b2bc690",
   "metadata": {},
   "outputs": [],
   "source": [
    "lien_id.to_csv('export_electra_' + dir_date + '.csv', na_rep='null')"
   ]
  }
 ],
 "metadata": {
  "kernelspec": {
   "display_name": "Python 3 (ipykernel)",
   "language": "python",
   "name": "python3"
  },
  "language_info": {
   "codemirror_mode": {
    "name": "ipython",
    "version": 3
   },
   "file_extension": ".py",
   "mimetype": "text/x-python",
   "name": "python",
   "nbconvert_exporter": "python",
   "pygments_lexer": "ipython3",
   "version": "3.12.4"
  }
 },
 "nbformat": 4,
 "nbformat_minor": 5
}
