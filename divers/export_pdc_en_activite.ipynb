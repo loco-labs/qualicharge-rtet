{
 "cells": [
  {
   "cell_type": "markdown",
   "id": "71ed766b-e636-4228-88f4-bd978330f78a",
   "metadata": {},
   "source": [
    "# export pdc en activite"
   ]
  },
  {
   "cell_type": "code",
   "execution_count": 1,
   "id": "dbd3d86a-7b5b-43cf-8a1e-13885b92fbd4",
   "metadata": {},
   "outputs": [],
   "source": [
    "import os\n",
    "import pandas as pd"
   ]
  },
  {
   "cell_type": "code",
   "execution_count": 2,
   "id": "726ad4c6-91f1-43e6-8931-72b1b78ea2c6",
   "metadata": {},
   "outputs": [],
   "source": [
    "query = \"\"\"\n",
    "SELECT\n",
    "  id_pdc_itinerance\n",
    "FROM\n",
    "  SESSION\n",
    "  INNER JOIN statique on point_de_charge_id = pdc_id\n",
    "   {{snippet: join city-dep-reg}}\n",
    "WHERE\n",
    "  {{operateur}}\n",
    "  and {{amenageur}}\n",
    "  AND {{region}} [[AND {{departement}}]]\n",
    "  AND START >= {{start}}\n",
    "  AND START < {{end}}\n",
    "GROUP BY\n",
    "  id_pdc_itinerance\n",
    "\"\"\""
   ]
  },
  {
   "cell_type": "code",
   "execution_count": 3,
   "id": "30f94706-0288-4405-9405-3fa23a8c4ac8",
   "metadata": {},
   "outputs": [
    {
     "name": "stdout",
     "output_type": "stream",
     "text": [
      "liste_des_points_de_recharge_en_activite__sessions__2025-06-03T16_56_48.603879203+02_00.json\n",
      "liste_des_points_de_recharge_en_activite__sessions__2025-06-03T16_57_08.258458819+02_00.json\n",
      "liste_des_points_de_recharge_en_activite__sessions__2025-06-03T16_57_28.643291134+02_00.json\n",
      "liste_des_points_de_recharge_en_activite__sessions__2025-06-03T16_57_50.820096309+02_00.json\n",
      "liste_des_points_de_recharge_en_activite__sessions__2025-06-03T16_58_18.960433614+02_00.json\n",
      "liste_des_points_de_recharge_en_activite__sessions__2025-06-03T16_58_53.337002557+02_00.json\n",
      "liste_des_points_de_recharge_en_activite__sessions__2025-06-03T16_59_22.588666791+02_00.json\n",
      "liste_des_points_de_recharge_en_activite__sessions__2025-06-03T16_59_44.65567652+02_00.json\n",
      "liste_des_points_de_recharge_en_activite__sessions__2025-06-03T17_00_08.422787143+02_00.json\n",
      "liste_des_points_de_recharge_en_activite__sessions__2025-06-03T17_01_07.816282368+02_00.json\n",
      "query_result_2025-06-03T16_31_25.500296825+02_00.json\n",
      "query_result_2025-06-03T16_31_45.410263604+02_00.json\n",
      "query_result_2025-06-03T16_32_48.401974694+02_00.json\n",
      "query_result_2025-06-03T16_33_33.031324494+02_00.json\n",
      "query_result_2025-06-03T16_33_54.170823028+02_00.json\n",
      "query_result_2025-06-03T16_34_28.708023668+02_00.json\n",
      "query_result_2025-06-03T16_34_50.607130183+02_00.json\n",
      "query_result_2025-06-03T16_35_13.011020339+02_00.json\n",
      "query_result_2025-06-03T16_35_34.255892871+02_00.json\n",
      "query_result_2025-06-03T16_36_04.2599471+02_00.json\n",
      "query_result_2025-06-03T16_36_27.777462222+02_00.json\n",
      "query_result_2025-06-03T16_39_53.736559502+02_00.json\n",
      "query_result_2025-06-03T16_40_48.481378695+02_00.json\n",
      "query_result_2025-06-03T16_42_43.176894095+02_00.json\n",
      "query_result_2025-06-03T16_43_27.231960378+02_00.json\n"
     ]
    }
   ],
   "source": [
    "dir_pdc = '../../extractions/pdc en activite'\n",
    "dir_date = 'avril-mai'\n",
    "dir_file = dir_pdc + '/' + dir_date\n",
    "for file_name in os.listdir(dir_file):\n",
    "    print(file_name)"
   ]
  },
  {
   "cell_type": "code",
   "execution_count": 4,
   "id": "16190d38-dbe8-48b8-89d3-a70c6f6d5b63",
   "metadata": {
    "scrolled": true
   },
   "outputs": [
    {
     "name": "stdout",
     "output_type": "stream",
     "text": [
      "23339\n"
     ]
    }
   ],
   "source": [
    "liste_pdc = [pd.read_json(dir_file + '/' + file, orient='records') for file in os.listdir(dir_file)]\n",
    "all_pdc = pd.concat(liste_pdc , ignore_index=True).groupby('id_pdc_itinerance').first().reset_index()\n",
    "print(len(all_pdc))"
   ]
  },
  {
   "cell_type": "code",
   "execution_count": 5,
   "id": "5ab12896-d61c-4ad7-8c43-2d708cb846e1",
   "metadata": {},
   "outputs": [],
   "source": [
    "#all_statuses"
   ]
  },
  {
   "cell_type": "code",
   "execution_count": 6,
   "id": "714a0c70-a5d5-48f3-8c4c-1bf6b1901961",
   "metadata": {},
   "outputs": [
    {
     "data": {
      "text/plain": [
       "'export_pdc_en_activite_avril-mai.json'"
      ]
     },
     "execution_count": 6,
     "metadata": {},
     "output_type": "execute_result"
    }
   ],
   "source": [
    "all_pdc.to_json('export_pdc_en_activite_' + dir_date + '.json')\n",
    "'export_pdc_en_activite_' + dir_date + '.json'"
   ]
  }
 ],
 "metadata": {
  "kernelspec": {
   "display_name": "Python 3 (ipykernel)",
   "language": "python",
   "name": "python3"
  },
  "language_info": {
   "codemirror_mode": {
    "name": "ipython",
    "version": 3
   },
   "file_extension": ".py",
   "mimetype": "text/x-python",
   "name": "python",
   "nbconvert_exporter": "python",
   "pygments_lexer": "ipython3",
   "version": "3.12.4"
  }
 },
 "nbformat": 4,
 "nbformat_minor": 5
}
