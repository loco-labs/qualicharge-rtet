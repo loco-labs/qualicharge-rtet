


""" 
# pour utiliser la version de `geo_nx` en dev au lieu de `pip install --editable .`
import os
import sys
new_path = os.getcwd()[:-26] + 'geo_nx'
sys.path.append(new_path)"""

import json, copy
from shapely import LineString, Point
import numpy as np
import geopandas as gpd
import pandas as pd
import geo_nx as gnx 
import networkx as nx 

from geo_nx import geom_to_crs, cast_id
from qualicharge_rtet import proximite, insertion_projection, association_stations
from qualicharge_rtet import creation_pandas_stations, Afir

data_path = '../data/'
rtet_path = '../rtet/'
refnat = {'tiles': 'cartodbpositron', 'location': [46.3, 2.3], 'zoom_start': 7}
vl_central_2025 = (True, 400, 150, 60)
vl_central_2027 = (True, 600, 150, 60)
vl_global_2027 = (False, 300, 150, 60)
pl_global_2025 = (False, 1400, 350, 120)
pl_central_2027 = (True, 2800, 350, 120)


version = 'V1'
scenario = vl_global_2027





central, pcum, pmax, dist = scenario
gr_rtet = gnx.from_geopandas_edgelist(gpd.read_file(rtet_path + version + '_rtet_edge.geojson'), 
                                 node_gdf=gpd.read_file(rtet_path + version + '_rtet_node.geojson'),
                                 node_attr=True, edge_attr=True)
#gr.clean_attributes()
if central:
    gr_core = nx.subgraph_view(gr_rtet, filter_edge=lambda x,y: gr_rtet[x][y]["core"]==True)
    gr =  gnx.GeoGraph(nx.induced_subgraph(gr_core, nx.utils.flatten(gr_core.edges())))
else:
    gr = gr_rtet


len(gr.nodes), len(gr.edges)


sub_auto = nx.subgraph_view(gr, filter_edge=lambda x,y: gr[x][y]["nature"] == 'troncon autoroute')
sub_hors_auto = nx.subgraph_view(gr, filter_edge=lambda x,y: gr[x][y]["nature"] == 'troncon hors autoroute')

gr_autoroute =  nx.induced_subgraph(sub_auto, nx.utils.flatten(sub_auto.edges()))
gr_hors_autoroute =  nx.induced_subgraph(sub_hors_auto, nx.utils.flatten(sub_hors_auto.edges()))
gr_aire_service = nx.subgraph_view(gr, filter_node=lambda x: gr.nodes[x]["nature"] == 'aire de service')
gr_echangeur = nx.subgraph_view(gr, filter_node=lambda x: gr.nodes[x]["nature"] == 'echangeur')
gr_rond_point = nx.subgraph_view(gr, filter_node=lambda x: gr.nodes[x]["nature"] == 'rond-point')


param_exp_gr = {'e_popup': ['weight', 'source', 'target', "CORRIDORS", "INTROADNUM", "NATIONALRO", "ID", "nature", "core"], 
                'n_popup': ['roadname', 'nom', 'node_id'],
                'e_tooltip': ["source", "target", "nature", "core"], 
                'n_tooltip': ["node_id", "nature"], 'n_marker_kwds': {'radius': 1, 'fill': False}}
param_exp_as = {'n_name': 'aire de service', 'n_color': 'red', 'n_marker_kwds': {'radius': 3, 'fill': True}}
param_exp_ech = {'n_name': 'echangeur', 'n_color': 'blue', 'n_marker_kwds': {'radius': 3, 'fill': True}}
param_exp_rp = {'n_name': 'rond-point', 'n_color': 'purple', 'n_marker_kwds': {'radius': 3, 'fill': True}}

carte = gr_rond_point.explore(refmap=refnat, edges=False, **param_exp_rp)
carte = gr_echangeur.explore(refmap=carte, edges=False, **param_exp_ech)
carte = gr_aire_service.explore(refmap=carte, edges=False, **param_exp_as)
carte = gr_hors_autoroute.explore(refmap=carte, e_color='green', e_name='edges hors autoroute', n_name='nodes hors autoroute', n_color='black', **param_exp_gr)
carte = gr_autoroute.explore(refmap=carte, n_color='black', e_name='edges autoroute', n_name='nodes autoroute', layercontrol=True, **param_exp_gr)
carte








stations = creation_pandas_stations(data_path + "csl_gireve202407.csv", nature="station_irve", first_id=max(gr.nodes) + 1)
stations_afir = stations[(stations["p_max"] > pmax) & (stations["p_cum"] > pcum)].reset_index()

gr_afir = association_stations(gr, stations_afir) 


nx.subgraph_view(gr_afir, filter_node=(
            lambda x: gr_afir.nodes[x][NATURE] == "station_irve" and
           gr_afir.edges[x, list(self.reseau.adj[x])[0]]
            [NATURE] == 'liaison aire de service'))





gs_station = nx.subgraph_view(gr_afir, filter_node=lambda x: gr_afir[x][list(gr_afir.adj[x])[0]]["nature"] == 'liaison aire de service')
gs_pre_station = nx.subgraph_view(gr_afir, filter_node=lambda x: gr_afir[x][list(gr_afir.adj[x])[0]]["nature"] == 'liaison aire de recharge')
gs_externe = nx.subgraph_view(gr_afir, filter_node=lambda x: gr_afir[x][list(gr_afir.adj[x])[0]]["nature"] == 'liaison exterieur')


param_exp_nd = {'n_marker_kwds': {'radius': 3, 'fill': True}}
param_exp_gs = {'e_tooltip': ["source", "target"], 'e_popup': ['type', 'weight', 'source', 'target'], 'e_color': 'grey',
                'n_name': 'station', 'e_name': 'liaison station', 'n_popup': ['amenageur', 'operateur', 'p_cum', 'p_max', 'node_id', 'id_station'], 
                'n_tooltip': "amenageur", 'n_color': 'green', 'n_marker_kwds': {'radius': 4, 'fill': True}}
param_exp_gr = {'e_name': 'edges', 'n_name': 'nodes', 
                'e_popup': ['weight', 'source', 'target', 'core', 'nature', "CORRIDORS", "INTROADNUM", "NATIONALRO"], 
                'e_tooltip': ["source", "target"], 'n_tooltip': ["node_id", "nature"], 'n_marker_kwds': {'radius': 1, 'fill': False}}

carte = gs_station.explore(refmap=refnat, n_color='green', n_name='aire de service', **param_exp_nd)
carte = gs_pre_station.explore(refmap=carte, n_color='red', n_name='aire de recharge', **param_exp_nd)
carte = gs_externe.explore(refmap=carte, n_color='purple', n_name='stations extérieures', **param_exp_nd)
carte = gr_afir.explore(refmap=carte, layercontrol=True, n_color='black', **param_exp_gr)
carte





add_name = '_core' if central else ''
add_pcum = '_' + str(pcum)    
add_pmax = '_' + str(pmax)
gr_afir.to_geopandas_edgelist().to_file(rtet_path + version + add_name + add_pcum + add_pmax + '_afir_edge.geojson', driver='GeoJSON')
gr_afir.to_geopandas_nodelist().to_file(rtet_path + version + add_name + add_pcum + add_pmax + '_afir_node.geojson', driver='GeoJSON')
