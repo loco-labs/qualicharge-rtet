{
 "cells": [
  {
   "cell_type": "code",
   "execution_count": 1,
   "id": "512d0335-9c1f-41e2-b910-fa436c6285d6",
   "metadata": {},
   "outputs": [],
   "source": [
    "import pandas as pd\n"
   ]
  },
  {
   "cell_type": "code",
   "execution_count": 3,
   "id": "e33ecd1c-5063-47ce-be46-626fea6e5ac8",
   "metadata": {},
   "outputs": [
    {
     "data": {
      "text/html": [
       "<div>\n",
       "<style scoped>\n",
       "    .dataframe tbody tr th:only-of-type {\n",
       "        vertical-align: middle;\n",
       "    }\n",
       "\n",
       "    .dataframe tbody tr th {\n",
       "        vertical-align: top;\n",
       "    }\n",
       "\n",
       "    .dataframe thead th {\n",
       "        text-align: right;\n",
       "    }\n",
       "</style>\n",
       "<table border=\"1\" class=\"dataframe\">\n",
       "  <thead>\n",
       "    <tr style=\"text-align: right;\">\n",
       "      <th></th>\n",
       "      <th>a</th>\n",
       "      <th>b</th>\n",
       "    </tr>\n",
       "  </thead>\n",
       "  <tbody>\n",
       "    <tr>\n",
       "      <th>0</th>\n",
       "      <td>1</td>\n",
       "      <td>12</td>\n",
       "    </tr>\n",
       "    <tr>\n",
       "      <th>1</th>\n",
       "      <td>1</td>\n",
       "      <td>54</td>\n",
       "    </tr>\n",
       "    <tr>\n",
       "      <th>2</th>\n",
       "      <td>2</td>\n",
       "      <td>87</td>\n",
       "    </tr>\n",
       "    <tr>\n",
       "      <th>3</th>\n",
       "      <td>2</td>\n",
       "      <td>56</td>\n",
       "    </tr>\n",
       "    <tr>\n",
       "      <th>4</th>\n",
       "      <td>2</td>\n",
       "      <td>12</td>\n",
       "    </tr>\n",
       "    <tr>\n",
       "      <th>5</th>\n",
       "      <td>3</td>\n",
       "      <td>54</td>\n",
       "    </tr>\n",
       "    <tr>\n",
       "      <th>6</th>\n",
       "      <td>3</td>\n",
       "      <td>98</td>\n",
       "    </tr>\n",
       "    <tr>\n",
       "      <th>7</th>\n",
       "      <td>3</td>\n",
       "      <td>77</td>\n",
       "    </tr>\n",
       "  </tbody>\n",
       "</table>\n",
       "</div>"
      ],
      "text/plain": [
       "   a   b\n",
       "0  1  12\n",
       "1  1  54\n",
       "2  2  87\n",
       "3  2  56\n",
       "4  2  12\n",
       "5  3  54\n",
       "6  3  98\n",
       "7  3  77"
      ]
     },
     "execution_count": 3,
     "metadata": {},
     "output_type": "execute_result"
    }
   ],
   "source": [
    "df = pd.DataFrame({'a': [1,1,2,2,2,3,3,3], 'b': [12,54,87,56,12,54,98,77]})\n",
    "df"
   ]
  },
  {
   "cell_type": "code",
   "execution_count": 17,
   "id": "dae61e05-ba99-4822-bdd4-11f8062d7233",
   "metadata": {},
   "outputs": [
    {
     "data": {
      "text/html": [
       "<div>\n",
       "<style scoped>\n",
       "    .dataframe tbody tr th:only-of-type {\n",
       "        vertical-align: middle;\n",
       "    }\n",
       "\n",
       "    .dataframe tbody tr th {\n",
       "        vertical-align: top;\n",
       "    }\n",
       "\n",
       "    .dataframe thead th {\n",
       "        text-align: right;\n",
       "    }\n",
       "</style>\n",
       "<table border=\"1\" class=\"dataframe\">\n",
       "  <thead>\n",
       "    <tr style=\"text-align: right;\">\n",
       "      <th></th>\n",
       "      <th>a</th>\n",
       "      <th>b</th>\n",
       "    </tr>\n",
       "  </thead>\n",
       "  <tbody>\n",
       "    <tr>\n",
       "      <th>0</th>\n",
       "      <td>1</td>\n",
       "      <td>{'list_id_pdc_itinerance': [12, 54]}</td>\n",
       "    </tr>\n",
       "    <tr>\n",
       "      <th>1</th>\n",
       "      <td>2</td>\n",
       "      <td>{'list_id_pdc_itinerance': [87, 56, 12]}</td>\n",
       "    </tr>\n",
       "    <tr>\n",
       "      <th>2</th>\n",
       "      <td>3</td>\n",
       "      <td>{'list_id_pdc_itinerance': [54, 98, 77]}</td>\n",
       "    </tr>\n",
       "  </tbody>\n",
       "</table>\n",
       "</div>"
      ],
      "text/plain": [
       "   a                                         b\n",
       "0  1      {'list_id_pdc_itinerance': [12, 54]}\n",
       "1  2  {'list_id_pdc_itinerance': [87, 56, 12]}\n",
       "2  3  {'list_id_pdc_itinerance': [54, 98, 77]}"
      ]
     },
     "execution_count": 17,
     "metadata": {},
     "output_type": "execute_result"
    }
   ],
   "source": [
    "import numpy as np\n",
    "\n",
    "grp = df.groupby('a')\n",
    "\n",
    "res_a = [name for name, group in grp]\n",
    "res_b = [list(group['b']) for name, group in grp]\n",
    "grp2 = pd.DataFrame({'a': res_a, 'b': res_b})\n",
    "\n",
    "grp = df.groupby('a')\n",
    "grp3 = pd.DataFrame()\n",
    "grp3['a'] = [name for name, group in grp]\n",
    "grp3['b'] = [{'list_id_pdc_itinerance': list(group['b'])} for name, group in grp]\n",
    "grp3"
   ]
  },
  {
   "cell_type": "code",
   "execution_count": 15,
   "id": "69ffbef4-9111-4bfb-aa2f-e916e1a73a03",
   "metadata": {},
   "outputs": [
    {
     "data": {
      "text/plain": [
       "[{'a': 1, 'b': [12, 54]},\n",
       " {'a': 2, 'b': [87, 56, 12]},\n",
       " {'a': 3, 'b': [54, 98, 77]}]"
      ]
     },
     "execution_count": 15,
     "metadata": {},
     "output_type": "execute_result"
    }
   ],
   "source": [
    "grp2.to_dict(orient='records')  "
   ]
  },
  {
   "cell_type": "code",
   "execution_count": 30,
   "id": "466c0786-1f51-4ab1-b241-5b4a8a3a2396",
   "metadata": {},
   "outputs": [
    {
     "data": {
      "text/plain": [
       "'a'"
      ]
     },
     "execution_count": 30,
     "metadata": {},
     "output_type": "execute_result"
    }
   ],
   "source": [
    "df = pd.DataFrame({'a': [1,1,2,np.nan,2,3,3,3], 'b': [12,54,87,56,12,54,98,77]})\n",
    "\n",
    "df['a'] = df['a'].fillna(pd.Series([{}] * len(df)))\n",
    "df[df.columns[0]]\n",
    "df.columns[0]"
   ]
  },
  {
   "cell_type": "code",
   "execution_count": 25,
   "id": "59e05b27-964f-4c64-9900-1e6d9e433a5b",
   "metadata": {},
   "outputs": [
    {
     "data": {
      "text/plain": [
       "0    {}\n",
       "1    {}\n",
       "2    {}\n",
       "3    {}\n",
       "4    {}\n",
       "5    {}\n",
       "6    {}\n",
       "7    {}\n",
       "dtype: object"
      ]
     },
     "execution_count": 25,
     "metadata": {},
     "output_type": "execute_result"
    }
   ],
   "source": [
    "pd.Series(fillna)"
   ]
  },
  {
   "cell_type": "code",
   "execution_count": 35,
   "id": "85a0eb7a-b73f-4d9d-9224-0e218ea21d03",
   "metadata": {},
   "outputs": [
    {
     "data": {
      "text/plain": [
       "datetime.datetime(2024, 3, 8, 0, 0)"
      ]
     },
     "execution_count": 35,
     "metadata": {},
     "output_type": "execute_result"
    }
   ],
   "source": [
    "from dateutil.relativedelta import relativedelta\n",
    "from datetime import datetime\n",
    "\n",
    "datetime.fromisoformat(\"2025-03-08\") - relativedelta(years=1)"
   ]
  }
 ],
 "metadata": {
  "kernelspec": {
   "display_name": "Python 3 (ipykernel)",
   "language": "python",
   "name": "python3"
  },
  "language_info": {
   "codemirror_mode": {
    "name": "ipython",
    "version": 3
   },
   "file_extension": ".py",
   "mimetype": "text/x-python",
   "name": "python",
   "nbconvert_exporter": "python",
   "pygments_lexer": "ipython3",
   "version": "3.12.4"
  }
 },
 "nbformat": 4,
 "nbformat_minor": 5
}
