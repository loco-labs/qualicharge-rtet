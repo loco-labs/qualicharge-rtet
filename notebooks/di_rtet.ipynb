{
 "cells": [
  {
   "cell_type": "markdown",
   "id": "ae477235-88a9-40d4-91b5-8a3723a2edbb",
   "metadata": {},
   "source": [
    "# migration digraph"
   ]
  },
  {
   "cell_type": "code",
   "execution_count": 11,
   "id": "6ab969ec-6238-4b26-9388-15d244a592bf",
   "metadata": {},
   "outputs": [],
   "source": [
    "import geopandas as gpd\n",
    "import pandas as pd\n",
    "import geo_nx as gnx \n",
    "import networkx as nx \n",
    "\n",
    "from fonction_rtet import troncons_non_mailles, troncons_peu_mailles, gr_maillage\n",
    "\n",
    "rtet_path = '../rtet/'\n",
    "refnat = {'tiles': 'cartodbpositron', 'location': [46.3, 2.3], 'zoom_start': 7}\n",
    "vl_central_2025 = (True, 400, 150, 60)\n",
    "vl_central_2027 = (True, 600, 150, 60)\n",
    "vl_global_2027 = (False, 300, 150, 60)\n",
    "pl_global_2025 = (False, 1400, 350, 120)\n",
    "pl_central_2027 = (True, 2800, 350, 120)\n",
    "\n",
    "\n",
    "version = 'V1'\n",
    "scenario = vl_global_2027"
   ]
  },
  {
   "cell_type": "markdown",
   "id": "55a2f54c-758a-410d-93d3-24b7cf7eb36d",
   "metadata": {},
   "source": [
    "## Chargement AFIR\n",
    "\n"
   ]
  },
  {
   "cell_type": "code",
   "execution_count": 12,
   "id": "be6ef853-b88b-4018-bc93-67b116ad4ee4",
   "metadata": {
    "scrolled": true
   },
   "outputs": [],
   "source": [
    "central, pcum, pmax, dist = scenario\n",
    "add_name = '_core' if central else ''\n",
    "add_pcum = '_' + str(pcum)    \n",
    "add_pmax = '_' + str(pmax)\n",
    "\n",
    "gr_tot = gnx.from_geopandas_edgelist(gpd.read_file(rtet_path + version + add_name + add_pcum + add_pmax + '_afir_edge.geojson'), \n",
    "                                     node_gdf=gpd.read_file(rtet_path + version + add_name + add_pcum + add_pmax + '_afir_node.geojson'),\n",
    "                                     node_attr=True, edge_attr=True)\n",
    "#gr_tot.clean_attributes()"
   ]
  },
  {
   "cell_type": "code",
   "execution_count": 13,
   "id": "de0a0639-98ac-4636-84c3-dc363faa28df",
   "metadata": {},
   "outputs": [
    {
     "data": {
      "text/plain": [
       "(3713, 3786)"
      ]
     },
     "execution_count": 13,
     "metadata": {},
     "output_type": "execute_result"
    }
   ],
   "source": [
    "len(gr_tot.nodes), len(gr_tot.edges)"
   ]
  },
  {
   "cell_type": "code",
   "execution_count": 14,
   "id": "eb3e8a8e-21e0-4834-8cb3-617b39f1a4ab",
   "metadata": {},
   "outputs": [],
   "source": [
    "dgr_tot = gr_tot.to_directed()"
   ]
  },
  {
   "cell_type": "code",
   "execution_count": 15,
   "id": "462d09c8-5d51-4eb3-8158-90d38774ad69",
   "metadata": {},
   "outputs": [],
   "source": [
    "stat_edges = [edge for edge in dgr_tot.edges if dgr_tot.edges[edge]['nature'][:7] == 'liaison']\n",
    "dgs = nx.edge_subgraph(dgr_tot, stat_edges)\n",
    "rtet_edges = [edge for edge in dgr_tot.edges if dgr_tot.edges[edge]['nature'][:7] != 'liaison']\n",
    "dgr = nx.edge_subgraph(dgr_tot, rtet_edges)"
   ]
  },
  {
   "cell_type": "markdown",
   "id": "07421be5-c955-4435-9b95-b2aae07ecaca",
   "metadata": {},
   "source": [
    "### Trajet entre deux stations\n",
    "Exemple entre la station '4128' (Bollene) et la station '4148' (saint-martin de crau)"
   ]
  },
  {
   "cell_type": "code",
   "execution_count": 16,
   "id": "b53a2e48-9a85-4431-b945-2c65baf112ea",
   "metadata": {},
   "outputs": [
    {
     "name": "stdout",
     "output_type": "stream",
     "text": [
      "trajet :  27965 28271\n"
     ]
    }
   ],
   "source": [
    "bollene = [node for node in dgr_tot.nodes if dgr_tot.nodes[node].get('id_station') == 'FR*IZF*EFAST*95*1*3']\n",
    "bollene = bollene[0] if bollene else None\n",
    "st_martin_de_crau = [node for node in dgr_tot.nodes if dgr_tot.nodes[node].get('id_station') == 'FR*PVD*EVG*SMC13*D01*1']\n",
    "st_martin_de_crau = st_martin_de_crau[0] if st_martin_de_crau else None\n",
    "trajet = bollene and st_martin_de_crau\n",
    "print('trajet : ', bollene, st_martin_de_crau)"
   ]
  },
  {
   "cell_type": "code",
   "execution_count": 18,
   "id": "4b17d229-fda1-46eb-bd10-cbc0b1bbd11f",
   "metadata": {},
   "outputs": [
    {
     "name": "stdout",
     "output_type": "stream",
     "text": [
      "distance entre les stations :  116138.54862765616\n"
     ]
    }
   ],
   "source": [
    "if trajet:\n",
    "    print('distance entre les stations : ',\n",
    "    nx.shortest_path_length(dgr_tot, source=bollene, target=st_martin_de_crau, weight='weight'))"
   ]
  },
  {
   "cell_type": "code",
   "execution_count": 19,
   "id": "90827e61-c918-40d1-9cd0-33865a4e80e6",
   "metadata": {},
   "outputs": [
    {
     "name": "stdout",
     "output_type": "stream",
     "text": [
      "[27965, 804, 566, 567, 2026, 250, 794, 568, 785, 564, 775, 767, 760, 309, 744, 748, 182, 747, 743, 28271] <class 'list'> 116138.54862765616\n"
     ]
    }
   ],
   "source": [
    "if trajet:\n",
    "    path = nx.shortest_path(dgr_tot, source=bollene, target=st_martin_de_crau, weight='weight')\n",
    "    gr_path = nx.subgraph_view(dgr_tot, filter_edge=(lambda x, y: x in path and y in path and abs(path.index(y) - path.index(x)) == 1), filter_node=lambda x: x in path)\n",
    "    print(path, type(path), nx.path_weight(gr_tot, path, 'weight'))"
   ]
  },
  {
   "cell_type": "code",
   "execution_count": 20,
   "id": "c7d72470-bc1c-4e36-b87f-12b1c2f29037",
   "metadata": {
    "scrolled": true
   },
   "outputs": [
    {
     "ename": "AttributeError",
     "evalue": "'DiGraph' object has no attribute 'explore'",
     "output_type": "error",
     "traceback": [
      "\u001b[1;31m---------------------------------------------------------------------------\u001b[0m",
      "\u001b[1;31mAttributeError\u001b[0m                            Traceback (most recent call last)",
      "Cell \u001b[1;32mIn[20], line 15\u001b[0m\n\u001b[0;32m     12\u001b[0m refmap \u001b[38;5;241m=\u001b[39m {\u001b[38;5;124m'\u001b[39m\u001b[38;5;124mtiles\u001b[39m\u001b[38;5;124m'\u001b[39m: \u001b[38;5;124m'\u001b[39m\u001b[38;5;124mcartodbpositron\u001b[39m\u001b[38;5;124m'\u001b[39m, \u001b[38;5;124m'\u001b[39m\u001b[38;5;124mlocation\u001b[39m\u001b[38;5;124m'\u001b[39m: [\u001b[38;5;241m43.8\u001b[39m, \u001b[38;5;241m5\u001b[39m], \u001b[38;5;124m'\u001b[39m\u001b[38;5;124mzoom_start\u001b[39m\u001b[38;5;124m'\u001b[39m: \u001b[38;5;241m9\u001b[39m}\n\u001b[0;32m     14\u001b[0m \u001b[38;5;28;01mif\u001b[39;00m trajet:    \n\u001b[1;32m---> 15\u001b[0m     carte \u001b[38;5;241m=\u001b[39m \u001b[43mdgs\u001b[49m\u001b[38;5;241;43m.\u001b[39;49m\u001b[43mexplore\u001b[49m(refmap\u001b[38;5;241m=\u001b[39mrefmap, \u001b[38;5;241m*\u001b[39m\u001b[38;5;241m*\u001b[39mparam_exp_gs)\n\u001b[0;32m     16\u001b[0m     carte \u001b[38;5;241m=\u001b[39m dgr\u001b[38;5;241m.\u001b[39mexplore(refmap\u001b[38;5;241m=\u001b[39mcarte, n_color\u001b[38;5;241m=\u001b[39m\u001b[38;5;124m'\u001b[39m\u001b[38;5;124mblack\u001b[39m\u001b[38;5;124m'\u001b[39m, e_name\u001b[38;5;241m=\u001b[39m\u001b[38;5;124m'\u001b[39m\u001b[38;5;124medges rtet\u001b[39m\u001b[38;5;124m'\u001b[39m, n_name\u001b[38;5;241m=\u001b[39m\u001b[38;5;124m'\u001b[39m\u001b[38;5;124mnodes rtet\u001b[39m\u001b[38;5;124m'\u001b[39m, \u001b[38;5;241m*\u001b[39m\u001b[38;5;241m*\u001b[39mparam_exp_gr)\n\u001b[0;32m     17\u001b[0m     carte \u001b[38;5;241m=\u001b[39m dgr_path\u001b[38;5;241m.\u001b[39mexplore(refmap\u001b[38;5;241m=\u001b[39mcarte, layercontrol\u001b[38;5;241m=\u001b[39m\u001b[38;5;28;01mTrue\u001b[39;00m, nodes\u001b[38;5;241m=\u001b[39m\u001b[38;5;28;01mFalse\u001b[39;00m, \u001b[38;5;241m*\u001b[39m\u001b[38;5;241m*\u001b[39mparam_exp_path)\n",
      "\u001b[1;31mAttributeError\u001b[0m: 'DiGraph' object has no attribute 'explore'"
     ]
    }
   ],
   "source": [
    "param_exp_gs = {'e_tooltip': [\"source\", \"target\"], 'e_popup': ['nature', 'weight', 'source', 'target'], 'e_color': 'grey',\n",
    "                'n_name': 'station', 'e_name': 'liaison station', 'n_popup': ['amenageur', 'operateur', 'p_cum', 'p_max', 'node_id', 'id_station'], \n",
    "                'n_tooltip': \"amenageur\", 'n_color': 'green', 'n_marker_kwds': {'radius': 4, 'fill': True}}\n",
    "\n",
    "param_exp_gr = {'e_popup': ['weight', 'source', 'target', 'core', \"CORRIDORS\", \"INTROADNUM\", \"NATIONALRO\", \"ID\", \"nature\"], \n",
    "                'n_popup': ['roadname', 'nom', 'node_id'],\n",
    "                'e_tooltip': [\"source\", \"target\", \"nature\", \"core\"], \n",
    "                'n_tooltip': [\"node_id\", \"nature\"], 'n_marker_kwds': {'radius': 1, 'fill': False}}\n",
    "#param_exp_gr = {'e_name': 'edges', 'n_name': 'nodes', 'e_popup': ['weight', 'source', 'target'], 'e_tooltip': [\"source\", \"target\"], \n",
    "#                'n_tooltip': [\"node_id\", \"nature\"], 'n_marker_kwds': {'radius': 1, 'fill': False}}\n",
    "param_exp_path = {'e_name': 'path', 'e_color': 'red'}\n",
    "refmap = {'tiles': 'cartodbpositron', 'location': [43.8, 5], 'zoom_start': 9}\n",
    "\n",
    "if trajet:    \n",
    "    carte = dgs.explore(refmap=refmap, **param_exp_gs)\n",
    "    carte = dgr.explore(refmap=carte, n_color='black', e_name='edges rtet', n_name='nodes rtet', **param_exp_gr)\n",
    "    carte = dgr_path.explore(refmap=carte, layercontrol=True, nodes=False, **param_exp_path)\n",
    "carte"
   ]
  }
 ],
 "metadata": {
  "kernelspec": {
   "display_name": "Python 3 (ipykernel)",
   "language": "python",
   "name": "python3"
  },
  "language_info": {
   "codemirror_mode": {
    "name": "ipython",
    "version": 3
   },
   "file_extension": ".py",
   "mimetype": "text/x-python",
   "name": "python",
   "nbconvert_exporter": "python",
   "pygments_lexer": "ipython3",
   "version": "3.12.4"
  }
 },
 "nbformat": 4,
 "nbformat_minor": 5
}
