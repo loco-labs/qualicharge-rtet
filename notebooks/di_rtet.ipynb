{
 "cells": [
  {
   "cell_type": "markdown",
   "id": "ae477235-88a9-40d4-91b5-8a3723a2edbb",
   "metadata": {},
   "source": [
    "# migration digraph"
   ]
  },
  {
   "cell_type": "code",
   "execution_count": 1,
   "id": "6ab969ec-6238-4b26-9388-15d244a592bf",
   "metadata": {},
   "outputs": [],
   "source": [
    "\"\"\" \n",
    "# pour utiliser la version de `geo_nx` en dev au lieu de `pip install --editable .`\n",
    "import os\n",
    "import sys\n",
    "new_path = os.getcwd()[:-26] + 'geo_nx'\n",
    "sys.path.append(new_path)\"\"\"\n",
    "\n",
    "import json, copy\n",
    "from shapely import LineString, Point\n",
    "import numpy as np\n",
    "import geopandas as gpd\n",
    "import pandas as pd\n",
    "import geo_nx as gnx \n",
    "import networkx as nx \n",
    "\n",
    "from geo_nx import geom_to_crs, cast_id\n",
    "from fonction_rtet import proximite, insertion_projection, association_stations\n",
    "from interfaces import creation_pandas_stations\n",
    "from afir import Afir\n",
    "\n",
    "data_path = '../data/'\n",
    "rtet_path = '../rtet/'\n",
    "refnat = {'tiles': 'cartodbpositron', 'location': [46.3, 2.3], 'zoom_start': 7}\n",
    "vl_central_2025 = (True, 400, 150, 60)\n",
    "vl_central_2027 = (True, 600, 150, 60)\n",
    "vl_global_2027 = (False, 300, 150, 60)\n",
    "pl_global_2025 = (False, 1400, 350, 120)\n",
    "pl_central_2027 = (True, 2800, 350, 120)\n",
    "\n",
    "\n",
    "version = 'V1'\n",
    "scenario = vl_global_2027"
   ]
  },
  {
   "cell_type": "markdown",
   "id": "55a2f54c-758a-410d-93d3-24b7cf7eb36d",
   "metadata": {},
   "source": [
    "## Chargement RTET\n",
    "\n"
   ]
  },
  {
   "cell_type": "code",
   "execution_count": 2,
   "id": "be6ef853-b88b-4018-bc93-67b116ad4ee4",
   "metadata": {
    "scrolled": true
   },
   "outputs": [],
   "source": [
    "central, pcum, pmax, dist = scenario\n",
    "gr_rtet = gnx.from_geopandas_edgelist(gpd.read_file(rtet_path + version + '_rtet_edge.geojson'), \n",
    "                                 node_gdf=gpd.read_file(rtet_path + version + '_rtet_node.geojson'),\n",
    "                                 node_attr=True, edge_attr=True)\n",
    "#gr.clean_attributes()\n",
    "if central:\n",
    "    gr_core = nx.subgraph_view(gr_rtet, filter_edge=lambda x,y: gr_rtet[x][y][\"core\"]==True)\n",
    "    gr =  gnx.GeoGraph(nx.induced_subgraph(gr_core, nx.utils.flatten(gr_core.edges())))\n",
    "else:\n",
    "    gr = gr_rtet"
   ]
  },
  {
   "cell_type": "code",
   "execution_count": 3,
   "id": "de0a0639-98ac-4636-84c3-dc363faa28df",
   "metadata": {},
   "outputs": [
    {
     "data": {
      "text/plain": [
       "(2686, 2757)"
      ]
     },
     "execution_count": 3,
     "metadata": {},
     "output_type": "execute_result"
    }
   ],
   "source": [
    "len(gr.nodes), len(gr.edges)"
   ]
  },
  {
   "cell_type": "code",
   "execution_count": 4,
   "id": "eb3e8a8e-21e0-4834-8cb3-617b39f1a4ab",
   "metadata": {},
   "outputs": [],
   "source": [
    "dgr = gr.to_directed()"
   ]
  },
  {
   "cell_type": "code",
   "execution_count": 8,
   "id": "fe26c0bb-a2f3-4473-a60e-468bc2dad4c6",
   "metadata": {},
   "outputs": [],
   "source": [
    "sub_auto = nx.subgraph_view(dgr, filter_edge=lambda x,y: dgr[x][y][\"nature\"] == 'troncon autoroute')\n",
    "dgr_autoroute =  nx.induced_subgraph(sub_auto, nx.utils.flatten(sub_auto.edges()))\n",
    "\n",
    "sub_hors_auto = nx.subgraph_view(dgr, filter_edge=lambda x,y: dgr[x][y][\"nature\"] == 'troncon hors autoroute')\n",
    "dgr_hors_autoroute =  nx.induced_subgraph(sub_hors_auto, nx.utils.flatten(sub_hors_auto.edges()))"
   ]
  },
  {
   "cell_type": "code",
   "execution_count": 10,
   "id": "b2052ebb-81ad-4f56-a076-565af7fe591b",
   "metadata": {
    "scrolled": true
   },
   "outputs": [
    {
     "ename": "AttributeError",
     "evalue": "'DiGraph' object has no attribute 'explore'",
     "output_type": "error",
     "traceback": [
      "\u001b[1;31m---------------------------------------------------------------------------\u001b[0m",
      "\u001b[1;31mAttributeError\u001b[0m                            Traceback (most recent call last)",
      "Cell \u001b[1;32mIn[10], line 10\u001b[0m\n\u001b[0;32m      4\u001b[0m param_exp_gr \u001b[38;5;241m=\u001b[39m {\u001b[38;5;124m'\u001b[39m\u001b[38;5;124me_popup\u001b[39m\u001b[38;5;124m'\u001b[39m: [\u001b[38;5;124m'\u001b[39m\u001b[38;5;124mweight\u001b[39m\u001b[38;5;124m'\u001b[39m, \u001b[38;5;124m'\u001b[39m\u001b[38;5;124msource\u001b[39m\u001b[38;5;124m'\u001b[39m, \u001b[38;5;124m'\u001b[39m\u001b[38;5;124mtarget\u001b[39m\u001b[38;5;124m'\u001b[39m, \u001b[38;5;124m\"\u001b[39m\u001b[38;5;124mNATIONALRO\u001b[39m\u001b[38;5;124m\"\u001b[39m, \u001b[38;5;124m\"\u001b[39m\u001b[38;5;124mID\u001b[39m\u001b[38;5;124m\"\u001b[39m, \u001b[38;5;124m\"\u001b[39m\u001b[38;5;124mnature\u001b[39m\u001b[38;5;124m\"\u001b[39m, \u001b[38;5;124m\"\u001b[39m\u001b[38;5;124mcore\u001b[39m\u001b[38;5;124m\"\u001b[39m], \n\u001b[0;32m      5\u001b[0m                 \u001b[38;5;124m'\u001b[39m\u001b[38;5;124me_tooltip\u001b[39m\u001b[38;5;124m'\u001b[39m: [\u001b[38;5;124m\"\u001b[39m\u001b[38;5;124msource\u001b[39m\u001b[38;5;124m\"\u001b[39m, \u001b[38;5;124m\"\u001b[39m\u001b[38;5;124mtarget\u001b[39m\u001b[38;5;124m\"\u001b[39m, \u001b[38;5;124m\"\u001b[39m\u001b[38;5;124mnature\u001b[39m\u001b[38;5;124m\"\u001b[39m, \u001b[38;5;124m\"\u001b[39m\u001b[38;5;124mcore\u001b[39m\u001b[38;5;124m\"\u001b[39m], \u001b[38;5;124m'\u001b[39m\u001b[38;5;124mn_tooltip\u001b[39m\u001b[38;5;124m'\u001b[39m: [\u001b[38;5;124m\"\u001b[39m\u001b[38;5;124mnode_id\u001b[39m\u001b[38;5;124m\"\u001b[39m, \u001b[38;5;124m\"\u001b[39m\u001b[38;5;124mnature\u001b[39m\u001b[38;5;124m\"\u001b[39m], \u001b[38;5;124m'\u001b[39m\u001b[38;5;124mn_marker_kwds\u001b[39m\u001b[38;5;124m'\u001b[39m: {\u001b[38;5;124m'\u001b[39m\u001b[38;5;124mradius\u001b[39m\u001b[38;5;124m'\u001b[39m: \u001b[38;5;241m2\u001b[39m, \u001b[38;5;124m'\u001b[39m\u001b[38;5;124mfill\u001b[39m\u001b[38;5;124m'\u001b[39m: \u001b[38;5;28;01mFalse\u001b[39;00m}}\n\u001b[0;32m      7\u001b[0m \u001b[38;5;66;03m#carte = gr_echangeur.explore(refmap=refnat, edges=False, **param_exp_ech)\u001b[39;00m\n\u001b[0;32m      8\u001b[0m \u001b[38;5;66;03m#carte = gr_rond_point.explore(refmap=carte, edges=False, **param_exp_rp)\u001b[39;00m\n\u001b[0;32m      9\u001b[0m \u001b[38;5;66;03m#carte = gr_aire_service.explore(refmap=refnat, edges=False, **param_exp_as)\u001b[39;00m\n\u001b[1;32m---> 10\u001b[0m carte \u001b[38;5;241m=\u001b[39m \u001b[43mdgr_autoroute\u001b[49m\u001b[38;5;241;43m.\u001b[39;49m\u001b[43mexplore\u001b[49m(refmap\u001b[38;5;241m=\u001b[39mrefnat, n_color\u001b[38;5;241m=\u001b[39m\u001b[38;5;124m'\u001b[39m\u001b[38;5;124mblack\u001b[39m\u001b[38;5;124m'\u001b[39m, e_name\u001b[38;5;241m=\u001b[39m\u001b[38;5;124m'\u001b[39m\u001b[38;5;124medges autoroute\u001b[39m\u001b[38;5;124m'\u001b[39m, n_name\u001b[38;5;241m=\u001b[39m\u001b[38;5;124m'\u001b[39m\u001b[38;5;124mnodes autoroute\u001b[39m\u001b[38;5;124m'\u001b[39m, \u001b[38;5;241m*\u001b[39m\u001b[38;5;241m*\u001b[39mparam_exp_gr)\n\u001b[0;32m     11\u001b[0m carte \u001b[38;5;241m=\u001b[39m dgr_hors_autoroute\u001b[38;5;241m.\u001b[39mexplore(refmap\u001b[38;5;241m=\u001b[39mcarte, e_color\u001b[38;5;241m=\u001b[39m\u001b[38;5;124m'\u001b[39m\u001b[38;5;124mgreen\u001b[39m\u001b[38;5;124m'\u001b[39m, e_name\u001b[38;5;241m=\u001b[39m\u001b[38;5;124m'\u001b[39m\u001b[38;5;124medges hors autoroute\u001b[39m\u001b[38;5;124m'\u001b[39m, n_name\u001b[38;5;241m=\u001b[39m\u001b[38;5;124m'\u001b[39m\u001b[38;5;124mnodes hors autoroute\u001b[39m\u001b[38;5;124m'\u001b[39m, layercontrol\u001b[38;5;241m=\u001b[39m\u001b[38;5;28;01mTrue\u001b[39;00m, n_color\u001b[38;5;241m=\u001b[39m\u001b[38;5;124m'\u001b[39m\u001b[38;5;124mblack\u001b[39m\u001b[38;5;124m'\u001b[39m, \u001b[38;5;241m*\u001b[39m\u001b[38;5;241m*\u001b[39mparam_exp_gr)\n\u001b[0;32m     12\u001b[0m carte\n",
      "\u001b[1;31mAttributeError\u001b[0m: 'DiGraph' object has no attribute 'explore'"
     ]
    }
   ],
   "source": [
    "param_exp_ech = {'n_name': 'echangeurs', 'n_color': 'blue', 'n_marker_kwds': {'radius': 3, 'fill': True}}\n",
    "param_exp_rp = {'n_name': 'rond-points', 'n_color': 'purple', 'n_marker_kwds': {'radius': 3, 'fill': True}}\n",
    "param_exp_as = {'n_name': 'aire de service', 'n_color': 'red', 'n_marker_kwds': {'radius': 3, 'fill': True}}\n",
    "param_exp_gr = {'e_popup': ['weight', 'source', 'target', \"NATIONALRO\", \"ID\", \"nature\", \"core\"], \n",
    "                'e_tooltip': [\"source\", \"target\", \"nature\", \"core\"], 'n_tooltip': [\"node_id\", \"nature\"], 'n_marker_kwds': {'radius': 2, 'fill': False}}\n",
    "\n",
    "#carte = gr_echangeur.explore(refmap=refnat, edges=False, **param_exp_ech)\n",
    "#carte = gr_rond_point.explore(refmap=carte, edges=False, **param_exp_rp)\n",
    "#carte = gr_aire_service.explore(refmap=refnat, edges=False, **param_exp_as)\n",
    "carte = dgr_autoroute.explore(refmap=refnat, n_color='black', e_name='edges autoroute', n_name='nodes autoroute', **param_exp_gr)\n",
    "carte = dgr_hors_autoroute.explore(refmap=carte, e_color='green', e_name='edges hors autoroute', n_name='nodes hors autoroute', layercontrol=True, n_color='black', **param_exp_gr)\n",
    "carte"
   ]
  }
 ],
 "metadata": {
  "kernelspec": {
   "display_name": "Python 3 (ipykernel)",
   "language": "python",
   "name": "python3"
  },
  "language_info": {
   "codemirror_mode": {
    "name": "ipython",
    "version": 3
   },
   "file_extension": ".py",
   "mimetype": "text/x-python",
   "name": "python",
   "nbconvert_exporter": "python",
   "pygments_lexer": "ipython3",
   "version": "3.12.4"
  }
 },
 "nbformat": 4,
 "nbformat_minor": 5
}
