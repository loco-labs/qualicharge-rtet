{
 "cells": [
  {
   "cell_type": "markdown",
   "id": "ae477235-88a9-40d4-91b5-8a3723a2edbb",
   "metadata": {},
   "source": [
    "# validation Graph - DiGraph"
   ]
  },
  {
   "cell_type": "code",
   "execution_count": 1,
   "id": "5c336382-15a4-4989-9c5f-2a258a8cc7d1",
   "metadata": {},
   "outputs": [
    {
     "data": {
      "text/plain": [
       "\"import os\\nimport sys\\nnew_path = os.getcwd()[:-26] + 'qualicharge-rtet'\\nsys.path.append(new_path)\""
      ]
     },
     "execution_count": 1,
     "metadata": {},
     "output_type": "execute_result"
    }
   ],
   "source": [
    "'''import os\n",
    "import sys\n",
    "new_path = os.getcwd()[:-26] + 'qualicharge-rtet'\n",
    "sys.path.append(new_path)'''"
   ]
  },
  {
   "cell_type": "code",
   "execution_count": 2,
   "id": "6ab969ec-6238-4b26-9388-15d244a592bf",
   "metadata": {},
   "outputs": [],
   "source": [
    "import geopandas as gpd\n",
    "import pandas as pd\n",
    "import geo_nx as gnx \n",
    "import networkx as nx \n",
    "\n",
    "from qualicharge_rtet import troncons_non_mailles, troncons_peu_mailles, gr_maillage\n",
    "from qualicharge_rtet import to_macro_node\n",
    "\n",
    "rtet_path = '../rtet/'\n",
    "refnat = {'tiles': 'cartodbpositron', 'location': [46.3, 2.3], 'zoom_start': 7}\n",
    "vl_central_2025 = (True, 400, 150, 60)\n",
    "vl_central_2027 = (True, 600, 150, 60)\n",
    "vl_global_2027 = (False, 300, 150, 60)\n",
    "pl_global_2025 = (False, 1400, 350, 120)\n",
    "pl_central_2027 = (True, 2800, 350, 120)\n",
    "\n",
    "\n",
    "version = 'V1'\n",
    "scenario = vl_global_2027"
   ]
  },
  {
   "cell_type": "markdown",
   "id": "55a2f54c-758a-410d-93d3-24b7cf7eb36d",
   "metadata": {},
   "source": [
    "## Chargement AFIR\n",
    "\n"
   ]
  },
  {
   "cell_type": "code",
   "execution_count": 3,
   "id": "be6ef853-b88b-4018-bc93-67b116ad4ee4",
   "metadata": {
    "scrolled": true
   },
   "outputs": [],
   "source": [
    "central, pcum, pmax, dist = scenario\n",
    "add_name = '_core' if central else ''\n",
    "add_pcum = '_' + str(pcum)    \n",
    "add_pmax = '_' + str(pmax)\n",
    "\n",
    "gr_tot = gnx.from_geopandas_edgelist(gpd.read_file(rtet_path + version + add_name + add_pcum + add_pmax + '_afir_edge.geojson'), \n",
    "                                     node_gdf=gpd.read_file(rtet_path + version + add_name + add_pcum + add_pmax + '_afir_node.geojson'),\n",
    "                                     node_attr=True, edge_attr=True)\n",
    "#gr_tot.clean_attributes()"
   ]
  },
  {
   "cell_type": "code",
   "execution_count": 4,
   "id": "de0a0639-98ac-4636-84c3-dc363faa28df",
   "metadata": {},
   "outputs": [
    {
     "data": {
      "text/plain": [
       "(3713, 3786)"
      ]
     },
     "execution_count": 4,
     "metadata": {},
     "output_type": "execute_result"
    }
   ],
   "source": [
    "len(gr_tot.nodes), len(gr_tot.edges)"
   ]
  },
  {
   "cell_type": "code",
   "execution_count": 14,
   "id": "63ed25ca-4fac-4aac-9f34-c85d1b263183",
   "metadata": {
    "scrolled": true
   },
   "outputs": [],
   "source": [
    "#for edge in gr_tot.edges:\n",
    "#    print(gr_tot.edges[edge])"
   ]
  },
  {
   "cell_type": "code",
   "execution_count": 6,
   "id": "eb3e8a8e-21e0-4834-8cb3-617b39f1a4ab",
   "metadata": {},
   "outputs": [
    {
     "name": "stdout",
     "output_type": "stream",
     "text": [
      "108\n"
     ]
    }
   ],
   "source": [
    "dgr_tot = gr_tot.to_directed()\n",
    "def node_autoroute(node):\n",
    "    for pred_node in dgr_tot.predecessors(node):\n",
    "        #print(dgr_tot.edges[pred_node, node])\n",
    "        if dgr_tot.edges[pred_node, node]['nature'] != 'troncon autoroute':\n",
    "            return False\n",
    "    for succ_node in dgr_tot.successors(node):\n",
    "        if dgr_tot.edges[node, succ_node]['nature'] != 'troncon autoroute':\n",
    "            return False\n",
    "    return True\n",
    "\n",
    "nodes = [node for node in dgr_tot.nodes if dgr_tot.nodes[node]['nature'] == 'connecteur' and \n",
    "        node_autoroute(node)]\n",
    "print(len(nodes))\n",
    "for node in nodes:\n",
    "    to_macro_node(dgr_tot, node)"
   ]
  },
  {
   "cell_type": "code",
   "execution_count": 7,
   "id": "9e6f8d68-d61c-4759-9a0d-96543b55a945",
   "metadata": {},
   "outputs": [],
   "source": [
    "stat_edges = [edge for edge in gr_tot.edges if gr_tot.edges[edge]['nature'][:7] == 'liaison']\n",
    "gs = nx.edge_subgraph(gr_tot, stat_edges)\n",
    "rtet_edges = [edge for edge in gr_tot.edges if gr_tot.edges[edge]['nature'][:7] != 'liaison']\n",
    "gr = nx.edge_subgraph(gr_tot, rtet_edges)"
   ]
  },
  {
   "cell_type": "code",
   "execution_count": 8,
   "id": "44cb4d2e-f2da-4660-9b10-4e13c43cd18a",
   "metadata": {
    "scrolled": true
   },
   "outputs": [],
   "source": [
    "#for edge in dgr_tot.edges:\n",
    "#    print(dgr_tot.edges[edge])"
   ]
  },
  {
   "cell_type": "code",
   "execution_count": 9,
   "id": "462d09c8-5d51-4eb3-8158-90d38774ad69",
   "metadata": {},
   "outputs": [],
   "source": [
    "dstat_edges = [edge for edge in dgr_tot.edges if dgr_tot.edges[edge]['nature'][:7] == 'liaison']\n",
    "dgs = nx.edge_subgraph(dgr_tot, dstat_edges)\n",
    "drtet_edges = [edge for edge in dgr_tot.edges if dgr_tot.edges[edge]['nature'][:7] != 'liaison']\n",
    "dgr = nx.edge_subgraph(dgr_tot, drtet_edges)"
   ]
  },
  {
   "cell_type": "markdown",
   "id": "07421be5-c955-4435-9b95-b2aae07ecaca",
   "metadata": {},
   "source": [
    "### Trajet entre deux stations\n",
    "Exemple entre la station '4128' (Bollene) et la station '4148' (saint-martin de crau)"
   ]
  },
  {
   "cell_type": "code",
   "execution_count": 10,
   "id": "4a54ec08-3e51-456e-bc8c-741edaffcae4",
   "metadata": {},
   "outputs": [
    {
     "name": "stdout",
     "output_type": "stream",
     "text": [
      "trajet :  27965 28271\n"
     ]
    }
   ],
   "source": [
    "bollene = [node for node in gr_tot.nodes if gr_tot.nodes[node].get('id_station') == 'FR*IZF*EFAST*95*1*3']\n",
    "bollene = bollene[0] if bollene else None\n",
    "st_martin_de_crau = [node for node in gr_tot.nodes if gr_tot.nodes[node].get('id_station') == 'FR*PVD*EVG*SMC13*D01*1']\n",
    "st_martin_de_crau = st_martin_de_crau[0] if st_martin_de_crau else None\n",
    "trajet = bollene and st_martin_de_crau\n",
    "print('trajet : ', bollene, st_martin_de_crau)"
   ]
  },
  {
   "cell_type": "code",
   "execution_count": 11,
   "id": "b53a2e48-9a85-4431-b945-2c65baf112ea",
   "metadata": {},
   "outputs": [
    {
     "name": "stdout",
     "output_type": "stream",
     "text": [
      "trajet :  27965 28271\n"
     ]
    }
   ],
   "source": [
    "bollene = [node for node in dgr_tot.nodes if dgr_tot.nodes[node].get('id_station') == 'FR*IZF*EFAST*95*1*3']\n",
    "bollene = bollene[0] if bollene else None\n",
    "st_martin_de_crau = [node for node in dgr_tot.nodes if dgr_tot.nodes[node].get('id_station') == 'FR*PVD*EVG*SMC13*D01*1']\n",
    "st_martin_de_crau = st_martin_de_crau[0] if st_martin_de_crau else None\n",
    "trajet = bollene and st_martin_de_crau\n",
    "print('trajet : ', bollene, st_martin_de_crau)"
   ]
  },
  {
   "cell_type": "code",
   "execution_count": 12,
   "id": "2c014375-1ed6-415c-9dc5-f9e6aa19de4e",
   "metadata": {},
   "outputs": [
    {
     "name": "stdout",
     "output_type": "stream",
     "text": [
      "distance entre les stations :  116138.54862765616\n"
     ]
    }
   ],
   "source": [
    "if trajet:\n",
    "    print('distance entre les stations : ',\n",
    "    nx.shortest_path_length(gr_tot, source=bollene, target=st_martin_de_crau, weight='weight'))"
   ]
  },
  {
   "cell_type": "code",
   "execution_count": 13,
   "id": "4b17d229-fda1-46eb-bd10-cbc0b1bbd11f",
   "metadata": {},
   "outputs": [
    {
     "ename": "NetworkXNoPath",
     "evalue": "Node 28271 not reachable from 27965",
     "output_type": "error",
     "traceback": [
      "\u001b[1;31m---------------------------------------------------------------------------\u001b[0m",
      "\u001b[1;31mKeyError\u001b[0m                                  Traceback (most recent call last)",
      "File \u001b[1;32mC:\\Opensource\\anaconda3\\envs\\afir\\Lib\\site-packages\\networkx\\algorithms\\shortest_paths\\weighted.py:250\u001b[0m, in \u001b[0;36mdijkstra_path_length\u001b[1;34m(G, source, target, weight)\u001b[0m\n\u001b[0;32m    249\u001b[0m \u001b[38;5;28;01mtry\u001b[39;00m:\n\u001b[1;32m--> 250\u001b[0m     \u001b[38;5;28;01mreturn\u001b[39;00m \u001b[43mlength\u001b[49m\u001b[43m[\u001b[49m\u001b[43mtarget\u001b[49m\u001b[43m]\u001b[49m\n\u001b[0;32m    251\u001b[0m \u001b[38;5;28;01mexcept\u001b[39;00m \u001b[38;5;167;01mKeyError\u001b[39;00m \u001b[38;5;28;01mas\u001b[39;00m err:\n",
      "\u001b[1;31mKeyError\u001b[0m: 28271",
      "\nThe above exception was the direct cause of the following exception:\n",
      "\u001b[1;31mNetworkXNoPath\u001b[0m                            Traceback (most recent call last)",
      "Cell \u001b[1;32mIn[13], line 3\u001b[0m\n\u001b[0;32m      1\u001b[0m \u001b[38;5;28;01mif\u001b[39;00m trajet:\n\u001b[0;32m      2\u001b[0m     \u001b[38;5;28mprint\u001b[39m(\u001b[38;5;124m'\u001b[39m\u001b[38;5;124mdistance entre les stations : \u001b[39m\u001b[38;5;124m'\u001b[39m,\n\u001b[1;32m----> 3\u001b[0m     \u001b[43mnx\u001b[49m\u001b[38;5;241;43m.\u001b[39;49m\u001b[43mshortest_path_length\u001b[49m\u001b[43m(\u001b[49m\u001b[43mdgr_tot\u001b[49m\u001b[43m,\u001b[49m\u001b[43m \u001b[49m\u001b[43msource\u001b[49m\u001b[38;5;241;43m=\u001b[39;49m\u001b[43mbollene\u001b[49m\u001b[43m,\u001b[49m\u001b[43m \u001b[49m\u001b[43mtarget\u001b[49m\u001b[38;5;241;43m=\u001b[39;49m\u001b[43mst_martin_de_crau\u001b[49m\u001b[43m,\u001b[49m\u001b[43m \u001b[49m\u001b[43mweight\u001b[49m\u001b[38;5;241;43m=\u001b[39;49m\u001b[38;5;124;43m'\u001b[39;49m\u001b[38;5;124;43mweight\u001b[39;49m\u001b[38;5;124;43m'\u001b[39;49m\u001b[43m)\u001b[49m)\n",
      "File \u001b[1;32m<class 'networkx.utils.decorators.argmap'> compilation 28:3\u001b[0m, in \u001b[0;36margmap_shortest_path_length_25\u001b[1;34m(G, source, target, weight, method, backend, **backend_kwargs)\u001b[0m\n\u001b[0;32m      1\u001b[0m \u001b[38;5;28;01mimport\u001b[39;00m \u001b[38;5;21;01mbz2\u001b[39;00m\n\u001b[0;32m      2\u001b[0m \u001b[38;5;28;01mimport\u001b[39;00m \u001b[38;5;21;01mcollections\u001b[39;00m\n\u001b[1;32m----> 3\u001b[0m \u001b[38;5;28;01mimport\u001b[39;00m \u001b[38;5;21;01mgzip\u001b[39;00m\n\u001b[0;32m      4\u001b[0m \u001b[38;5;28;01mimport\u001b[39;00m \u001b[38;5;21;01minspect\u001b[39;00m\n\u001b[0;32m      5\u001b[0m \u001b[38;5;28;01mimport\u001b[39;00m \u001b[38;5;21;01mitertools\u001b[39;00m\n",
      "File \u001b[1;32mC:\\Opensource\\anaconda3\\envs\\afir\\Lib\\site-packages\\networkx\\utils\\backends.py:633\u001b[0m, in \u001b[0;36m_dispatchable.__call__\u001b[1;34m(self, backend, *args, **kwargs)\u001b[0m\n\u001b[0;32m    628\u001b[0m \u001b[38;5;250m\u001b[39m\u001b[38;5;124;03m\"\"\"Returns the result of the original function, or the backend function if\u001b[39;00m\n\u001b[0;32m    629\u001b[0m \u001b[38;5;124;03mthe backend is specified and that backend implements `func`.\"\"\"\u001b[39;00m\n\u001b[0;32m    631\u001b[0m \u001b[38;5;28;01mif\u001b[39;00m \u001b[38;5;129;01mnot\u001b[39;00m backends:\n\u001b[0;32m    632\u001b[0m     \u001b[38;5;66;03m# Fast path if no backends are installed\u001b[39;00m\n\u001b[1;32m--> 633\u001b[0m     \u001b[38;5;28;01mreturn\u001b[39;00m \u001b[38;5;28;43mself\u001b[39;49m\u001b[38;5;241;43m.\u001b[39;49m\u001b[43morig_func\u001b[49m\u001b[43m(\u001b[49m\u001b[38;5;241;43m*\u001b[39;49m\u001b[43margs\u001b[49m\u001b[43m,\u001b[49m\u001b[43m \u001b[49m\u001b[38;5;241;43m*\u001b[39;49m\u001b[38;5;241;43m*\u001b[39;49m\u001b[43mkwargs\u001b[49m\u001b[43m)\u001b[49m\n\u001b[0;32m    635\u001b[0m \u001b[38;5;66;03m# Use `backend_name` in this function instead of `backend`\u001b[39;00m\n\u001b[0;32m    636\u001b[0m backend_name \u001b[38;5;241m=\u001b[39m backend\n",
      "File \u001b[1;32mC:\\Opensource\\anaconda3\\envs\\afir\\Lib\\site-packages\\networkx\\algorithms\\shortest_paths\\generic.py:328\u001b[0m, in \u001b[0;36mshortest_path_length\u001b[1;34m(G, source, target, weight, method)\u001b[0m\n\u001b[0;32m    326\u001b[0m     paths \u001b[38;5;241m=\u001b[39m \u001b[38;5;28mlen\u001b[39m(p) \u001b[38;5;241m-\u001b[39m \u001b[38;5;241m1\u001b[39m\n\u001b[0;32m    327\u001b[0m \u001b[38;5;28;01melif\u001b[39;00m method \u001b[38;5;241m==\u001b[39m \u001b[38;5;124m\"\u001b[39m\u001b[38;5;124mdijkstra\u001b[39m\u001b[38;5;124m\"\u001b[39m:\n\u001b[1;32m--> 328\u001b[0m     paths \u001b[38;5;241m=\u001b[39m \u001b[43mnx\u001b[49m\u001b[38;5;241;43m.\u001b[39;49m\u001b[43mdijkstra_path_length\u001b[49m\u001b[43m(\u001b[49m\u001b[43mG\u001b[49m\u001b[43m,\u001b[49m\u001b[43m \u001b[49m\u001b[43msource\u001b[49m\u001b[43m,\u001b[49m\u001b[43m \u001b[49m\u001b[43mtarget\u001b[49m\u001b[43m,\u001b[49m\u001b[43m \u001b[49m\u001b[43mweight\u001b[49m\u001b[43m)\u001b[49m\n\u001b[0;32m    329\u001b[0m \u001b[38;5;28;01melse\u001b[39;00m:  \u001b[38;5;66;03m# method == 'bellman-ford':\u001b[39;00m\n\u001b[0;32m    330\u001b[0m     paths \u001b[38;5;241m=\u001b[39m nx\u001b[38;5;241m.\u001b[39mbellman_ford_path_length(G, source, target, weight)\n",
      "File \u001b[1;32m<class 'networkx.utils.decorators.argmap'> compilation 32:3\u001b[0m, in \u001b[0;36margmap_dijkstra_path_length_29\u001b[1;34m(G, source, target, weight, backend, **backend_kwargs)\u001b[0m\n\u001b[0;32m      1\u001b[0m \u001b[38;5;28;01mimport\u001b[39;00m \u001b[38;5;21;01mbz2\u001b[39;00m\n\u001b[0;32m      2\u001b[0m \u001b[38;5;28;01mimport\u001b[39;00m \u001b[38;5;21;01mcollections\u001b[39;00m\n\u001b[1;32m----> 3\u001b[0m \u001b[38;5;28;01mimport\u001b[39;00m \u001b[38;5;21;01mgzip\u001b[39;00m\n\u001b[0;32m      4\u001b[0m \u001b[38;5;28;01mimport\u001b[39;00m \u001b[38;5;21;01minspect\u001b[39;00m\n\u001b[0;32m      5\u001b[0m \u001b[38;5;28;01mimport\u001b[39;00m \u001b[38;5;21;01mitertools\u001b[39;00m\n",
      "File \u001b[1;32mC:\\Opensource\\anaconda3\\envs\\afir\\Lib\\site-packages\\networkx\\utils\\backends.py:633\u001b[0m, in \u001b[0;36m_dispatchable.__call__\u001b[1;34m(self, backend, *args, **kwargs)\u001b[0m\n\u001b[0;32m    628\u001b[0m \u001b[38;5;250m\u001b[39m\u001b[38;5;124;03m\"\"\"Returns the result of the original function, or the backend function if\u001b[39;00m\n\u001b[0;32m    629\u001b[0m \u001b[38;5;124;03mthe backend is specified and that backend implements `func`.\"\"\"\u001b[39;00m\n\u001b[0;32m    631\u001b[0m \u001b[38;5;28;01mif\u001b[39;00m \u001b[38;5;129;01mnot\u001b[39;00m backends:\n\u001b[0;32m    632\u001b[0m     \u001b[38;5;66;03m# Fast path if no backends are installed\u001b[39;00m\n\u001b[1;32m--> 633\u001b[0m     \u001b[38;5;28;01mreturn\u001b[39;00m \u001b[38;5;28;43mself\u001b[39;49m\u001b[38;5;241;43m.\u001b[39;49m\u001b[43morig_func\u001b[49m\u001b[43m(\u001b[49m\u001b[38;5;241;43m*\u001b[39;49m\u001b[43margs\u001b[49m\u001b[43m,\u001b[49m\u001b[43m \u001b[49m\u001b[38;5;241;43m*\u001b[39;49m\u001b[38;5;241;43m*\u001b[39;49m\u001b[43mkwargs\u001b[49m\u001b[43m)\u001b[49m\n\u001b[0;32m    635\u001b[0m \u001b[38;5;66;03m# Use `backend_name` in this function instead of `backend`\u001b[39;00m\n\u001b[0;32m    636\u001b[0m backend_name \u001b[38;5;241m=\u001b[39m backend\n",
      "File \u001b[1;32mC:\\Opensource\\anaconda3\\envs\\afir\\Lib\\site-packages\\networkx\\algorithms\\shortest_paths\\weighted.py:252\u001b[0m, in \u001b[0;36mdijkstra_path_length\u001b[1;34m(G, source, target, weight)\u001b[0m\n\u001b[0;32m    250\u001b[0m     \u001b[38;5;28;01mreturn\u001b[39;00m length[target]\n\u001b[0;32m    251\u001b[0m \u001b[38;5;28;01mexcept\u001b[39;00m \u001b[38;5;167;01mKeyError\u001b[39;00m \u001b[38;5;28;01mas\u001b[39;00m err:\n\u001b[1;32m--> 252\u001b[0m     \u001b[38;5;28;01mraise\u001b[39;00m nx\u001b[38;5;241m.\u001b[39mNetworkXNoPath(\u001b[38;5;124mf\u001b[39m\u001b[38;5;124m\"\u001b[39m\u001b[38;5;124mNode \u001b[39m\u001b[38;5;132;01m{\u001b[39;00mtarget\u001b[38;5;132;01m}\u001b[39;00m\u001b[38;5;124m not reachable from \u001b[39m\u001b[38;5;132;01m{\u001b[39;00msource\u001b[38;5;132;01m}\u001b[39;00m\u001b[38;5;124m\"\u001b[39m) \u001b[38;5;28;01mfrom\u001b[39;00m \u001b[38;5;21;01merr\u001b[39;00m\n",
      "\u001b[1;31mNetworkXNoPath\u001b[0m: Node 28271 not reachable from 27965"
     ]
    }
   ],
   "source": [
    "if trajet:\n",
    "    print('distance entre les stations : ',\n",
    "    nx.shortest_path_length(dgr_tot, source=bollene, target=st_martin_de_crau, weight='weight'))"
   ]
  },
  {
   "cell_type": "code",
   "execution_count": null,
   "id": "40a7a372-1ac2-40cb-9b63-5754b2c01952",
   "metadata": {},
   "outputs": [],
   "source": [
    "if trajet:\n",
    "    path = nx.shortest_path(gr_tot, source=bollene, target=st_martin_de_crau, weight='weight')\n",
    "    gr_path = nx.subgraph_view(gr_tot, filter_edge=(lambda x, y: x in path and y in path and abs(path.index(y) - path.index(x)) == 1), filter_node=lambda x: x in path)\n",
    "    print(path, type(path), nx.path_weight(gr_tot, path, 'weight'))"
   ]
  },
  {
   "cell_type": "code",
   "execution_count": null,
   "id": "90827e61-c918-40d1-9cd0-33865a4e80e6",
   "metadata": {},
   "outputs": [],
   "source": [
    "if trajet:\n",
    "    path = nx.shortest_path(dgr_tot, source=bollene, target=st_martin_de_crau, weight='weight')\n",
    "    dgr_path = nx.subgraph_view(dgr_tot, filter_edge=(lambda x, y: x in path and y in path and abs(path.index(y) - path.index(x)) == 1), filter_node=lambda x: x in path)\n",
    "    print(path, type(path), nx.path_weight(gr_tot, path, 'weight'))"
   ]
  },
  {
   "cell_type": "code",
   "execution_count": null,
   "id": "1871ee01-682d-4599-b850-8b89403de265",
   "metadata": {
    "scrolled": true
   },
   "outputs": [],
   "source": [
    "param_exp_gs = {'e_tooltip': [\"source\", \"target\"], 'e_popup': ['nature', 'weight', 'source', 'target'], 'e_color': 'grey',\n",
    "                'n_name': 'station', 'e_name': 'liaison station', 'n_popup': ['amenageur', 'operateur', 'p_cum', 'p_max', 'node_id', 'id_station'], \n",
    "                'n_tooltip': \"amenageur\", 'n_color': 'green', 'n_marker_kwds': {'radius': 4, 'fill': True}}\n",
    "\n",
    "param_exp_gr = {'e_popup': ['weight', 'source', 'target', 'core', \"CORRIDORS\", \"INTROADNUM\", \"NATIONALRO\", \"ID\", \"nature\"], \n",
    "                'n_popup': ['roadname', 'nom', 'node_id'],\n",
    "                'e_tooltip': [\"source\", \"target\", \"nature\", \"core\"], \n",
    "                'n_tooltip': [\"node_id\", \"nature\"], 'n_marker_kwds': {'radius': 1, 'fill': False}}\n",
    "#param_exp_gr = {'e_name': 'edges', 'n_name': 'nodes', 'e_popup': ['weight', 'source', 'target'], 'e_tooltip': [\"source\", \"target\"], \n",
    "#                'n_tooltip': [\"node_id\", \"nature\"], 'n_marker_kwds': {'radius': 1, 'fill': False}}\n",
    "param_exp_path = {'e_name': 'path', 'e_color': 'red'}\n",
    "refmap = {'tiles': 'cartodbpositron', 'location': [43.8, 5], 'zoom_start': 9}\n",
    "\n",
    "if trajet:    \n",
    "    carte = gs.explore(refmap=refmap, **param_exp_gs)\n",
    "    carte = gr.explore(refmap=carte, n_color='black', e_name='edges rtet', n_name='nodes rtet', **param_exp_gr)\n",
    "    carte = gr_path.explore(refmap=carte, layercontrol=True, nodes=False, **param_exp_path)\n",
    "carte"
   ]
  },
  {
   "cell_type": "code",
   "execution_count": null,
   "id": "c7d72470-bc1c-4e36-b87f-12b1c2f29037",
   "metadata": {
    "scrolled": true
   },
   "outputs": [],
   "source": [
    "if trajet:    \n",
    "    carte = dgs.explore(refmap=refmap, **param_exp_gs)\n",
    "    carte = dgr.explore(refmap=carte, n_color='black', e_name='edges rtet', n_name='nodes rtet', **param_exp_gr)\n",
    "    carte = dgr_path.explore(refmap=carte, layercontrol=True, nodes=False, **param_exp_path)\n",
    "carte"
   ]
  },
  {
   "cell_type": "markdown",
   "id": "dc40057e-84f3-4158-be02-a278ed52e1b7",
   "metadata": {},
   "source": [
    "### Tronçons avec un faible maillage (méthode par tronçon)\n",
    "\n",
    "Identification des tronçons avec maillage insuffisant:\n",
    "- un tronçon est non maillé si en tout point du tronçon, la distance entre les deux stations les plus proches est supérieure à un seuil,\n",
    "- un tronçon est peu maillé s'il est sur la même branche (ensemble de tronçons entre deux stations disponibles ou bifurcations) qu'un tronçon maillé.\n",
    "\n",
    "La station '4501' (gap) est considéré pour cet exemple comme indisponible."
   ]
  },
  {
   "cell_type": "code",
   "execution_count": null,
   "id": "026141ee-a98a-4f88-8e28-eb32df665c9b",
   "metadata": {},
   "outputs": [],
   "source": [
    "sub_auto = nx.subgraph_view(gr, filter_edge=lambda x,y: gr[x][y][\"nature\"] == 'troncon autoroute')\n",
    "sub_hors_auto = nx.subgraph_view(gr, filter_edge=lambda x,y: gr[x][y][\"nature\"] == 'troncon hors autoroute')\n",
    "\n",
    "gr_autoroute =  nx.induced_subgraph(sub_auto, nx.utils.flatten(sub_auto.edges()))\n",
    "gr_hors_autoroute =  nx.induced_subgraph(sub_hors_auto, nx.utils.flatten(sub_hors_auto.edges()))"
   ]
  },
  {
   "cell_type": "code",
   "execution_count": null,
   "id": "a26425b3-42d8-486f-91bb-8331ea5ab36e",
   "metadata": {},
   "outputs": [],
   "source": [
    "sub_auto = nx.subgraph_view(dgr, filter_edge=lambda x,y: dgr[x][y][\"nature\"] == 'troncon autoroute')\n",
    "sub_hors_auto = nx.subgraph_view(dgr, filter_edge=lambda x,y: dgr[x][y][\"nature\"] == 'troncon hors autoroute')\n",
    "\n",
    "dgr_autoroute =  nx.induced_subgraph(sub_auto, nx.utils.flatten(sub_auto.edges()))\n",
    "dgr_hors_autoroute =  nx.induced_subgraph(sub_hors_auto, nx.utils.flatten(sub_hors_auto.edges()))"
   ]
  },
  {
   "cell_type": "code",
   "execution_count": null,
   "id": "d8647b1d-8d0a-410c-b655-d5496885a442",
   "metadata": {
    "scrolled": true
   },
   "outputs": [],
   "source": [
    "seuil = dist * 1000\n",
    "dispo = 'dispo'\n",
    "\n",
    "test_saturation = False\n",
    "if test_saturation:\n",
    "    gr_tot.add_node(4501, dispo=False) # indisponibilité d'une station (Gap)\n",
    "\n",
    "from time import time\n",
    "t0 = time()\n",
    "gr_stat_indispo, gr_non_maille = troncons_non_mailles(gr_tot, gs, gr, dispo, seuil)\n",
    "print(time()-t0)\n",
    "gr_peu_maille = troncons_peu_mailles(gr_non_maille, gr_tot, dispo)"
   ]
  },
  {
   "cell_type": "code",
   "execution_count": null,
   "id": "6cec55bd-5c10-4a02-b70c-4da1b0a577fd",
   "metadata": {
    "scrolled": true
   },
   "outputs": [],
   "source": [
    "seuil = dist * 1000\n",
    "dispo = 'dispo'\n",
    "if test_saturation:\n",
    "    dgr_tot.add_node(4501, dispo=False) # indisponibilité d'une station (Gap)\n",
    "\n",
    "from time import time\n",
    "t0 = time()\n",
    "dgr_stat_indispo, dgr_non_maille = troncons_non_mailles(dgr_tot, dgs, dgr, dispo, seuil)\n",
    "print(time()-t0)\n",
    "dgr_peu_maille = troncons_peu_mailles(dgr_non_maille, dgr_tot, dispo)"
   ]
  },
  {
   "cell_type": "code",
   "execution_count": null,
   "id": "345731e8-10c9-43b1-90d5-b02dafb69015",
   "metadata": {
    "scrolled": true
   },
   "outputs": [],
   "source": [
    "#refnat |= {'tiles': 'openstreetmap'}\n",
    "#refnat |= {'tiles': 'cartodbdark_matter'}\n",
    "refnat |= {'tiles': None}\n",
    "\n",
    "param_non_maille = {'e_name': 'non maillé', 'e_color': 'red', 'n_color': 'red'}\n",
    "param_peu_maille = {'e_name': 'peu maillé', 'e_color': 'orange'}\n",
    "\n",
    "carte = gs.explore(refmap=refnat, **param_exp_gs)\n",
    "carte = gr_hors_autoroute.explore(refmap=carte, e_color='green', e_name='edges hors autoroute', n_name='nodes hors autoroute', n_color='black', **param_exp_gr)\n",
    "carte = gr_autoroute.explore(refmap=carte, n_color='black', e_name='edges autoroute', n_name='nodes autoroute', **param_exp_gr)\n",
    "carte = gr_peu_maille.explore(refmap=carte, **param_peu_maille, nodes=False)\n",
    "carte = gr_stat_indispo.explore(refmap=carte, **param_non_maille)\n",
    "carte = gr_non_maille.explore(refmap=carte, layercontrol=True, nodes=False, **param_non_maille)\n",
    "carte"
   ]
  },
  {
   "cell_type": "code",
   "execution_count": null,
   "id": "eedb5584-efa1-4860-bf3c-6ecfcf5705e3",
   "metadata": {
    "scrolled": true
   },
   "outputs": [],
   "source": [
    "carte = dgs.explore(refmap=refnat, **param_exp_gs)\n",
    "carte = dgr_hors_autoroute.explore(refmap=carte, e_color='green', e_name='edges hors autoroute', n_name='nodes hors autoroute', n_color='black', **param_exp_gr)\n",
    "carte = dgr_autoroute.explore(refmap=carte, n_color='black', e_name='edges autoroute', n_name='nodes autoroute', **param_exp_gr)\n",
    "carte = dgr_peu_maille.explore(refmap=carte, **param_peu_maille, nodes=False)\n",
    "carte = dgr_stat_indispo.explore(refmap=carte, **param_non_maille)\n",
    "carte = dgr_non_maille.explore(refmap=carte, layercontrol=True, nodes=False, **param_non_maille)\n",
    "carte"
   ]
  },
  {
   "cell_type": "markdown",
   "id": "32582005-8de8-4b47-8b11-fc92ebe09811",
   "metadata": {},
   "source": [
    "## Indicateur AFIR"
   ]
  },
  {
   "cell_type": "code",
   "execution_count": null,
   "id": "2c5af9be-87b6-40c1-b3e9-c979d7b989cf",
   "metadata": {},
   "outputs": [],
   "source": [
    "longueur_rtet = sum([gr_tot.edges[edge]['weight'] for edge in rtet_edges])\n",
    "longueur_non_afir = sum([gr_non_maille.edges[edge]['weight'] for edge in gr_non_maille.edges])\n",
    "longueur_peu_afir = sum([gr_peu_maille.edges[edge]['weight'] for edge in gr_peu_maille.edges])\n",
    "print(\"pourcentage atteint : \", (1 - longueur_non_afir/longueur_rtet) * 100, (1 - longueur_peu_afir/longueur_rtet) * 100)\n",
    "print(\"distance totale, restante : \", longueur_rtet / 1000, longueur_non_afir / 1000, longueur_peu_afir / 1000)"
   ]
  },
  {
   "cell_type": "code",
   "execution_count": null,
   "id": "fd3c7afa-09cf-4ae7-bd49-16c85e44f035",
   "metadata": {},
   "outputs": [],
   "source": [
    "len([gr_peu_maille.edges[edge]['weight'] for edge in gr_peu_maille.edges]), len([dgr_peu_maille.edges[edge]['weight'] for edge in dgr_peu_maille.edges])"
   ]
  },
  {
   "cell_type": "code",
   "execution_count": null,
   "id": "37eb899b-b8fd-4bea-8d5d-0106497aef8d",
   "metadata": {},
   "outputs": [],
   "source": [
    "longueur_rtet = sum([dgr_tot.edges[edge]['weight'] for edge in drtet_edges])\n",
    "longueur_non_afir = sum([dgr_non_maille.edges[edge]['weight'] for edge in dgr_non_maille.edges])\n",
    "longueur_peu_afir = sum([dgr_peu_maille.edges[edge]['weight'] for edge in dgr_peu_maille.edges])\n",
    "print(\"pourcentage atteint : \", (1 - longueur_non_afir/longueur_rtet) * 100, (1 - longueur_peu_afir/longueur_rtet) * 100)\n",
    "print(\"distance totale, restante : \", longueur_rtet / 1000 / 2, longueur_non_afir / 1000 / 2, longueur_peu_afir / 1000 / 2)"
   ]
  }
 ],
 "metadata": {
  "kernelspec": {
   "display_name": "Python 3 (ipykernel)",
   "language": "python",
   "name": "python3"
  },
  "language_info": {
   "codemirror_mode": {
    "name": "ipython",
    "version": 3
   },
   "file_extension": ".py",
   "mimetype": "text/x-python",
   "name": "python",
   "nbconvert_exporter": "python",
   "pygments_lexer": "ipython3",
   "version": "3.12.4"
  }
 },
 "nbformat": 4,
 "nbformat_minor": 5
}
