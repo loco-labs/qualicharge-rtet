{
 "cells": [
  {
   "cell_type": "markdown",
   "id": "be1bd651-729c-41f3-991f-ed8f2fda29be",
   "metadata": {},
   "source": [
    "# Analyse réseau - AFIR \n"
   ]
  },
  {
   "cell_type": "markdown",
   "id": "dd3d7a21-2549-420b-b7f9-6c7e1698327c",
   "metadata": {},
   "source": [
    "## Objectif \n",
    "\n",
    "Identification des stations Qualicharge du réseau RTE-T et autoroutier.\n",
    "- 'export_afir_v2_2024.csv' stations de qualicharge respectant les contraintes de puissance\n",
    "- 'stations_tesla.csv' stations Tesla issues de la base transport (IRVE/analyses/extraction.ipynb)\n",
    "\n",
    "*consultation du NoteBook avec visualisation des cartes sur [nbviewer](https://nbviewer.org/github/loco-labs/qualicharge-rtet/blob/main/notebooks/V2_afir.ipynb)*"
   ]
  },
  {
   "cell_type": "code",
   "execution_count": 1,
   "id": "6ab969ec-6238-4b26-9388-15d244a592bf",
   "metadata": {},
   "outputs": [],
   "source": [
    "import json, copy\n",
    "from shapely import LineString, Point\n",
    "import numpy as np\n",
    "import geopandas as gpd\n",
    "import pandas as pd\n",
    "import geo_nx as gnx \n",
    "import networkx as nx \n",
    "\n",
    "from geo_nx import geom_to_crs, cast_id\n",
    "from fonction_rtet import insertion_noeuds, proximite, insertion_projection, association_stations\n",
    "from interfaces import creation_pandas_stations\n",
    "from afir import Afir\n",
    "\n",
    "data_path = '../data/'\n",
    "rtet_path = '../rtet/'\n",
    "refnat = {'tiles': 'cartodbpositron', 'location': [46.3, 2.3], 'zoom_start': 5}\n",
    "\n",
    "vl_central_2025 = {'central': True, 'pcum': 400,  'pmax': 150, 'dist': 60000}\n",
    "vl_central_2027 = {'central': True, 'pcum': 600,  'pmax': 150, 'dist': 60000}\n",
    "vl_global_2027 = {'central': False, 'pcum': 300,  'pmax': 150, 'dist': 60000}\n",
    "pl_global_2025 = {'central': False, 'pcum': 1400, 'pmax': 350, 'dist': 120000}\n",
    "pl_central_2027 = {'central': True, 'pcum': 2800, 'pmax': 350, 'dist': 120000}\n",
    "#pl_global_2027 = pl_global_2025\n",
    "\n",
    "version = 'V1'"
   ]
  },
  {
   "cell_type": "markdown",
   "id": "c3769080-5cfb-4c8e-8e3b-61db758ec6a7",
   "metadata": {},
   "source": [
    "## Chargement des données\n",
    "\n",
    "- réseau routier RTE-T,\n",
    "- stations IRVE"
   ]
  },
  {
   "cell_type": "code",
   "execution_count": 2,
   "id": "be6ef853-b88b-4018-bc93-67b116ad4ee4",
   "metadata": {
    "scrolled": true
   },
   "outputs": [
    {
     "data": {
      "text/plain": [
       "(2686, 2757)"
      ]
     },
     "execution_count": 2,
     "metadata": {},
     "output_type": "execute_result"
    }
   ],
   "source": [
    "gr_rtet = gnx.from_geopandas_edgelist(gpd.read_file(rtet_path + version + '_rtet_edge.geojson'), \n",
    "                                 node_gdf=gpd.read_file(rtet_path + version + '_rtet_node.geojson'),\n",
    "                                 node_attr=True, edge_attr=True)\n",
    "len(gr_rtet.nodes), len(gr_rtet.edges), "
   ]
  },
  {
   "cell_type": "code",
   "execution_count": 34,
   "id": "ef1f7267-f4ec-45fb-9b44-243035754dc3",
   "metadata": {},
   "outputs": [
    {
     "data": {
      "text/html": [
       "<div>\n",
       "<style scoped>\n",
       "    .dataframe tbody tr th:only-of-type {\n",
       "        vertical-align: middle;\n",
       "    }\n",
       "\n",
       "    .dataframe tbody tr th {\n",
       "        vertical-align: top;\n",
       "    }\n",
       "\n",
       "    .dataframe thead th {\n",
       "        text-align: right;\n",
       "    }\n",
       "</style>\n",
       "<table border=\"1\" class=\"dataframe\">\n",
       "  <thead>\n",
       "    <tr style=\"text-align: right;\">\n",
       "      <th></th>\n",
       "      <th>p_cum</th>\n",
       "      <th>p_max</th>\n",
       "      <th>id_station</th>\n",
       "      <th>operateur</th>\n",
       "      <th>amenageur</th>\n",
       "      <th>longitude</th>\n",
       "      <th>latitude</th>\n",
       "      <th>consolidated_latitude</th>\n",
       "      <th>consolidated_longitude</th>\n",
       "    </tr>\n",
       "  </thead>\n",
       "  <tbody>\n",
       "    <tr>\n",
       "      <th>7</th>\n",
       "      <td>3000.0</td>\n",
       "      <td>250.0</td>\n",
       "      <td>FRTSLP29658</td>\n",
       "      <td>Tesla</td>\n",
       "      <td>Tesla</td>\n",
       "      <td>2.426131</td>\n",
       "      <td>44.908948</td>\n",
       "      <td>44.908595</td>\n",
       "      <td>2.426131</td>\n",
       "    </tr>\n",
       "    <tr>\n",
       "      <th>12</th>\n",
       "      <td>520.0</td>\n",
       "      <td>130.0</td>\n",
       "      <td>FRTSLP1754</td>\n",
       "      <td>Tesla</td>\n",
       "      <td>Tesla</td>\n",
       "      <td>7.011155</td>\n",
       "      <td>43.603928</td>\n",
       "      <td>43.603659</td>\n",
       "      <td>7.011155</td>\n",
       "    </tr>\n",
       "    <tr>\n",
       "      <th>17</th>\n",
       "      <td>5000.0</td>\n",
       "      <td>250.0</td>\n",
       "      <td>FRTSLP29903</td>\n",
       "      <td>Tesla</td>\n",
       "      <td>Tesla</td>\n",
       "      <td>2.310792</td>\n",
       "      <td>43.206224</td>\n",
       "      <td>43.206224</td>\n",
       "      <td>2.310792</td>\n",
       "    </tr>\n",
       "    <tr>\n",
       "      <th>19</th>\n",
       "      <td>8000.0</td>\n",
       "      <td>250.0</td>\n",
       "      <td>FRTSLP30379</td>\n",
       "      <td>Tesla</td>\n",
       "      <td>Tesla</td>\n",
       "      <td>2.773494</td>\n",
       "      <td>49.709465</td>\n",
       "      <td>49.709465</td>\n",
       "      <td>2.773494</td>\n",
       "    </tr>\n",
       "    <tr>\n",
       "      <th>20</th>\n",
       "      <td>7000.0</td>\n",
       "      <td>250.0</td>\n",
       "      <td>FRTSLP28778</td>\n",
       "      <td>Tesla</td>\n",
       "      <td>Tesla</td>\n",
       "      <td>0.295897</td>\n",
       "      <td>46.548393</td>\n",
       "      <td>46.547767</td>\n",
       "      <td>0.295897</td>\n",
       "    </tr>\n",
       "    <tr>\n",
       "      <th>...</th>\n",
       "      <td>...</td>\n",
       "      <td>...</td>\n",
       "      <td>...</td>\n",
       "      <td>...</td>\n",
       "      <td>...</td>\n",
       "      <td>...</td>\n",
       "      <td>...</td>\n",
       "      <td>...</td>\n",
       "      <td>...</td>\n",
       "    </tr>\n",
       "    <tr>\n",
       "      <th>1293</th>\n",
       "      <td>3000.0</td>\n",
       "      <td>250.0</td>\n",
       "      <td>FRTSLP30255</td>\n",
       "      <td>Tesla</td>\n",
       "      <td>Tesla</td>\n",
       "      <td>5.051818</td>\n",
       "      <td>45.033274</td>\n",
       "      <td>45.033274</td>\n",
       "      <td>5.051818</td>\n",
       "    </tr>\n",
       "    <tr>\n",
       "      <th>1294</th>\n",
       "      <td>4000.0</td>\n",
       "      <td>250.0</td>\n",
       "      <td>FRTSLP14836</td>\n",
       "      <td>Tesla</td>\n",
       "      <td>Tesla</td>\n",
       "      <td>4.760218</td>\n",
       "      <td>45.820522</td>\n",
       "      <td>45.820338</td>\n",
       "      <td>4.760218</td>\n",
       "    </tr>\n",
       "    <tr>\n",
       "      <th>1303</th>\n",
       "      <td>3000.0</td>\n",
       "      <td>250.0</td>\n",
       "      <td>FRTSLP30237</td>\n",
       "      <td>Tesla</td>\n",
       "      <td>Tesla</td>\n",
       "      <td>5.479811</td>\n",
       "      <td>43.294681</td>\n",
       "      <td>43.294355</td>\n",
       "      <td>5.479811</td>\n",
       "    </tr>\n",
       "    <tr>\n",
       "      <th>1304</th>\n",
       "      <td>1500.0</td>\n",
       "      <td>150.0</td>\n",
       "      <td>FRTSLP6431</td>\n",
       "      <td>Tesla</td>\n",
       "      <td>Tesla</td>\n",
       "      <td>1.271210</td>\n",
       "      <td>45.867230</td>\n",
       "      <td>45.867721</td>\n",
       "      <td>1.271210</td>\n",
       "    </tr>\n",
       "    <tr>\n",
       "      <th>1312</th>\n",
       "      <td>3000.0</td>\n",
       "      <td>250.0</td>\n",
       "      <td>FRTSLP29873</td>\n",
       "      <td>Tesla</td>\n",
       "      <td>Tesla</td>\n",
       "      <td>2.604114</td>\n",
       "      <td>48.584701</td>\n",
       "      <td>48.584598</td>\n",
       "      <td>2.604114</td>\n",
       "    </tr>\n",
       "  </tbody>\n",
       "</table>\n",
       "<p>205 rows × 9 columns</p>\n",
       "</div>"
      ],
      "text/plain": [
       "       p_cum  p_max   id_station operateur amenageur  longitude   latitude  \\\n",
       "7     3000.0  250.0  FRTSLP29658     Tesla     Tesla   2.426131  44.908948   \n",
       "12     520.0  130.0   FRTSLP1754     Tesla     Tesla   7.011155  43.603928   \n",
       "17    5000.0  250.0  FRTSLP29903     Tesla     Tesla   2.310792  43.206224   \n",
       "19    8000.0  250.0  FRTSLP30379     Tesla     Tesla   2.773494  49.709465   \n",
       "20    7000.0  250.0  FRTSLP28778     Tesla     Tesla   0.295897  46.548393   \n",
       "...      ...    ...          ...       ...       ...        ...        ...   \n",
       "1293  3000.0  250.0  FRTSLP30255     Tesla     Tesla   5.051818  45.033274   \n",
       "1294  4000.0  250.0  FRTSLP14836     Tesla     Tesla   4.760218  45.820522   \n",
       "1303  3000.0  250.0  FRTSLP30237     Tesla     Tesla   5.479811  43.294681   \n",
       "1304  1500.0  150.0   FRTSLP6431     Tesla     Tesla   1.271210  45.867230   \n",
       "1312  3000.0  250.0  FRTSLP29873     Tesla     Tesla   2.604114  48.584701   \n",
       "\n",
       "      consolidated_latitude  consolidated_longitude  \n",
       "7                 44.908595                2.426131  \n",
       "12                43.603659                7.011155  \n",
       "17                43.206224                2.310792  \n",
       "19                49.709465                2.773494  \n",
       "20                46.547767                0.295897  \n",
       "...                     ...                     ...  \n",
       "1293              45.033274                5.051818  \n",
       "1294              45.820338                4.760218  \n",
       "1303              43.294355                5.479811  \n",
       "1304              45.867721                1.271210  \n",
       "1312              48.584598                2.604114  \n",
       "\n",
       "[205 rows x 9 columns]"
      ]
     },
     "execution_count": 34,
     "metadata": {},
     "output_type": "execute_result"
    }
   ],
   "source": [
    "data = pd.read_csv(data_path + 'export_afir_v2_2024.csv', sep=\",\")\n",
    "data_tpt = pd.read_csv(data_path + 'stations_tesla.csv', sep=\",\").groupby('id_station_itinerance', as_index=False).first()\n",
    "data_tpt['id_station'] = data_tpt['id_station_itinerance']\n",
    "cols = ['id_station', 'consolidated_latitude', 'consolidated_longitude']\n",
    "data_merge = data.merge(data_tpt[cols], how='left', on='id_station')\n",
    "data_merge['longitude'] = data_merge['consolidated_longitude'].fillna(data_merge['longitude'])\n",
    "data_merge[data_merge.operateur=='Tesla']"
   ]
  },
  {
   "cell_type": "code",
   "execution_count": 35,
   "id": "bdb17030-4a69-4da1-aa14-a411fef98369",
   "metadata": {},
   "outputs": [
    {
     "name": "stdout",
     "output_type": "stream",
     "text": [
      "1318\n",
      "['Power Dot France' 'Bouygues E&S' 'Tesla' 'Fastned France']\n"
     ]
    },
    {
     "data": {
      "text/html": [
       "<div>\n",
       "<style scoped>\n",
       "    .dataframe tbody tr th:only-of-type {\n",
       "        vertical-align: middle;\n",
       "    }\n",
       "\n",
       "    .dataframe tbody tr th {\n",
       "        vertical-align: top;\n",
       "    }\n",
       "\n",
       "    .dataframe thead th {\n",
       "        text-align: right;\n",
       "    }\n",
       "</style>\n",
       "<table border=\"1\" class=\"dataframe\">\n",
       "  <thead>\n",
       "    <tr style=\"text-align: right;\">\n",
       "      <th></th>\n",
       "      <th>p_cum</th>\n",
       "      <th>p_max</th>\n",
       "      <th>id_station</th>\n",
       "      <th>operateur</th>\n",
       "      <th>amenageur</th>\n",
       "      <th>geometry</th>\n",
       "      <th>node_id</th>\n",
       "      <th>nature</th>\n",
       "    </tr>\n",
       "  </thead>\n",
       "  <tbody>\n",
       "    <tr>\n",
       "      <th>7</th>\n",
       "      <td>3000.0</td>\n",
       "      <td>250.0</td>\n",
       "      <td>FRTSLP29658</td>\n",
       "      <td>Tesla</td>\n",
       "      <td>Tesla</td>\n",
       "      <td>POINT (654706.384 6423470.762)</td>\n",
       "      <td>2856</td>\n",
       "      <td>station_irve</td>\n",
       "    </tr>\n",
       "    <tr>\n",
       "      <th>12</th>\n",
       "      <td>520.0</td>\n",
       "      <td>130.0</td>\n",
       "      <td>FRTSLP1754</td>\n",
       "      <td>Tesla</td>\n",
       "      <td>Tesla</td>\n",
       "      <td>POINT (1023815.987 6286545.778)</td>\n",
       "      <td>2861</td>\n",
       "      <td>station_irve</td>\n",
       "    </tr>\n",
       "    <tr>\n",
       "      <th>17</th>\n",
       "      <td>5000.0</td>\n",
       "      <td>250.0</td>\n",
       "      <td>FRTSLP29903</td>\n",
       "      <td>Tesla</td>\n",
       "      <td>Tesla</td>\n",
       "      <td>POINT (643951.943 6234356.776)</td>\n",
       "      <td>2866</td>\n",
       "      <td>station_irve</td>\n",
       "    </tr>\n",
       "    <tr>\n",
       "      <th>19</th>\n",
       "      <td>8000.0</td>\n",
       "      <td>250.0</td>\n",
       "      <td>FRTSLP30379</td>\n",
       "      <td>Tesla</td>\n",
       "      <td>Tesla</td>\n",
       "      <td>POINT (683652.579 6956738.169)</td>\n",
       "      <td>2868</td>\n",
       "      <td>station_irve</td>\n",
       "    </tr>\n",
       "    <tr>\n",
       "      <th>20</th>\n",
       "      <td>7000.0</td>\n",
       "      <td>250.0</td>\n",
       "      <td>FRTSLP28778</td>\n",
       "      <td>Tesla</td>\n",
       "      <td>Tesla</td>\n",
       "      <td>POINT (492847.553 6608921.695)</td>\n",
       "      <td>2869</td>\n",
       "      <td>station_irve</td>\n",
       "    </tr>\n",
       "    <tr>\n",
       "      <th>...</th>\n",
       "      <td>...</td>\n",
       "      <td>...</td>\n",
       "      <td>...</td>\n",
       "      <td>...</td>\n",
       "      <td>...</td>\n",
       "      <td>...</td>\n",
       "      <td>...</td>\n",
       "      <td>...</td>\n",
       "    </tr>\n",
       "    <tr>\n",
       "      <th>1293</th>\n",
       "      <td>3000.0</td>\n",
       "      <td>250.0</td>\n",
       "      <td>FRTSLP30255</td>\n",
       "      <td>Tesla</td>\n",
       "      <td>Tesla</td>\n",
       "      <td>POINT (861567.764 6439213.806)</td>\n",
       "      <td>4142</td>\n",
       "      <td>station_irve</td>\n",
       "    </tr>\n",
       "    <tr>\n",
       "      <th>1294</th>\n",
       "      <td>4000.0</td>\n",
       "      <td>250.0</td>\n",
       "      <td>FRTSLP14836</td>\n",
       "      <td>Tesla</td>\n",
       "      <td>Tesla</td>\n",
       "      <td>POINT (836661.443 6526066.038)</td>\n",
       "      <td>4143</td>\n",
       "      <td>station_irve</td>\n",
       "    </tr>\n",
       "    <tr>\n",
       "      <th>1303</th>\n",
       "      <td>3000.0</td>\n",
       "      <td>250.0</td>\n",
       "      <td>FRTSLP30237</td>\n",
       "      <td>Tesla</td>\n",
       "      <td>Tesla</td>\n",
       "      <td>POINT (901324.826 6247107.405)</td>\n",
       "      <td>4152</td>\n",
       "      <td>station_irve</td>\n",
       "    </tr>\n",
       "    <tr>\n",
       "      <th>1304</th>\n",
       "      <td>1500.0</td>\n",
       "      <td>150.0</td>\n",
       "      <td>FRTSLP6431</td>\n",
       "      <td>Tesla</td>\n",
       "      <td>Tesla</td>\n",
       "      <td>POINT (565891.753 6531197.832)</td>\n",
       "      <td>4153</td>\n",
       "      <td>station_irve</td>\n",
       "    </tr>\n",
       "    <tr>\n",
       "      <th>1312</th>\n",
       "      <td>3000.0</td>\n",
       "      <td>250.0</td>\n",
       "      <td>FRTSLP29873</td>\n",
       "      <td>Tesla</td>\n",
       "      <td>Tesla</td>\n",
       "      <td>POINT (670800.923 6831683.255)</td>\n",
       "      <td>4161</td>\n",
       "      <td>station_irve</td>\n",
       "    </tr>\n",
       "  </tbody>\n",
       "</table>\n",
       "<p>205 rows × 8 columns</p>\n",
       "</div>"
      ],
      "text/plain": [
       "       p_cum  p_max   id_station operateur amenageur  \\\n",
       "7     3000.0  250.0  FRTSLP29658     Tesla     Tesla   \n",
       "12     520.0  130.0   FRTSLP1754     Tesla     Tesla   \n",
       "17    5000.0  250.0  FRTSLP29903     Tesla     Tesla   \n",
       "19    8000.0  250.0  FRTSLP30379     Tesla     Tesla   \n",
       "20    7000.0  250.0  FRTSLP28778     Tesla     Tesla   \n",
       "...      ...    ...          ...       ...       ...   \n",
       "1293  3000.0  250.0  FRTSLP30255     Tesla     Tesla   \n",
       "1294  4000.0  250.0  FRTSLP14836     Tesla     Tesla   \n",
       "1303  3000.0  250.0  FRTSLP30237     Tesla     Tesla   \n",
       "1304  1500.0  150.0   FRTSLP6431     Tesla     Tesla   \n",
       "1312  3000.0  250.0  FRTSLP29873     Tesla     Tesla   \n",
       "\n",
       "                             geometry  node_id        nature  \n",
       "7      POINT (654706.384 6423470.762)     2856  station_irve  \n",
       "12    POINT (1023815.987 6286545.778)     2861  station_irve  \n",
       "17     POINT (643951.943 6234356.776)     2866  station_irve  \n",
       "19     POINT (683652.579 6956738.169)     2868  station_irve  \n",
       "20     POINT (492847.553 6608921.695)     2869  station_irve  \n",
       "...                               ...      ...           ...  \n",
       "1293   POINT (861567.764 6439213.806)     4142  station_irve  \n",
       "1294   POINT (836661.443 6526066.038)     4143  station_irve  \n",
       "1303   POINT (901324.826 6247107.405)     4152  station_irve  \n",
       "1304   POINT (565891.753 6531197.832)     4153  station_irve  \n",
       "1312   POINT (670800.923 6831683.255)     4161  station_irve  \n",
       "\n",
       "[205 rows x 8 columns]"
      ]
     },
     "execution_count": 35,
     "metadata": {},
     "output_type": "execute_result"
    }
   ],
   "source": [
    "stations = creation_pandas_stations(data_merge, nature=\"station_irve\", first_id=max(gr_rtet.nodes) + 1, source='qualicharge')\n",
    "print(len(stations))\n",
    "print(stations['operateur'].unique())\n",
    "stations[stations.operateur=='Tesla']"
   ]
  },
  {
   "cell_type": "code",
   "execution_count": 55,
   "id": "b74a60f5-9355-4273-8f32-968afde6cda2",
   "metadata": {},
   "outputs": [
    {
     "data": {
      "text/html": [
       "<div>\n",
       "<style scoped>\n",
       "    .dataframe tbody tr th:only-of-type {\n",
       "        vertical-align: middle;\n",
       "    }\n",
       "\n",
       "    .dataframe tbody tr th {\n",
       "        vertical-align: top;\n",
       "    }\n",
       "\n",
       "    .dataframe thead th {\n",
       "        text-align: right;\n",
       "    }\n",
       "</style>\n",
       "<table border=\"1\" class=\"dataframe\">\n",
       "  <thead>\n",
       "    <tr style=\"text-align: right;\">\n",
       "      <th></th>\n",
       "      <th>longitude</th>\n",
       "      <th>latitude</th>\n",
       "    </tr>\n",
       "    <tr>\n",
       "      <th>id_station</th>\n",
       "      <th></th>\n",
       "      <th></th>\n",
       "    </tr>\n",
       "  </thead>\n",
       "  <tbody>\n",
       "    <tr>\n",
       "      <th>FRTSLP11605</th>\n",
       "      <td>5.976568</td>\n",
       "      <td>45.524705</td>\n",
       "    </tr>\n",
       "    <tr>\n",
       "      <th>FRTSLP16456</th>\n",
       "      <td>-0.491233</td>\n",
       "      <td>47.499063</td>\n",
       "    </tr>\n",
       "    <tr>\n",
       "      <th>FRTSLP11417</th>\n",
       "      <td>-0.375110</td>\n",
       "      <td>46.298759</td>\n",
       "    </tr>\n",
       "    <tr>\n",
       "      <th>FRTSLP11606</th>\n",
       "      <td>5.974838</td>\n",
       "      <td>45.525196</td>\n",
       "    </tr>\n",
       "    <tr>\n",
       "      <th>FRTSLP29498</th>\n",
       "      <td>4.864804</td>\n",
       "      <td>44.864843</td>\n",
       "    </tr>\n",
       "  </tbody>\n",
       "</table>\n",
       "</div>"
      ],
      "text/plain": [
       "             longitude   latitude\n",
       "id_station                       \n",
       "FRTSLP11605   5.976568  45.524705\n",
       "FRTSLP16456  -0.491233  47.499063\n",
       "FRTSLP11417  -0.375110  46.298759\n",
       "FRTSLP11606   5.974838  45.525196\n",
       "FRTSLP29498   4.864804  44.864843"
      ]
     },
     "execution_count": 55,
     "metadata": {},
     "output_type": "execute_result"
    }
   ],
   "source": [
    "data_merge.set_index('id_station').loc[['FRTSLP11605', 'FRTSLP16456', 'FRTSLP11417', 'FRTSLP11606', 'FRTSLP29498'],['longitude', 'latitude']]"
   ]
  },
  {
   "cell_type": "markdown",
   "id": "adacb9bc-aa3c-40fb-b07d-ad0159df47fe",
   "metadata": {},
   "source": [
    "## Intégration des données"
   ]
  },
  {
   "cell_type": "markdown",
   "id": "d6ea1170-53a8-4a2e-a726-34ea31e78a13",
   "metadata": {},
   "source": [
    "### objet de la classe Afir"
   ]
  },
  {
   "cell_type": "code",
   "execution_count": 37,
   "id": "e64a8bf6-8067-40ab-b4df-bfbf2beccd8f",
   "metadata": {},
   "outputs": [
    {
     "name": "stdout",
     "output_type": "stream",
     "text": [
      "Nb stations (st, pre_st, ext, out, total) :  5 4 96 38 143\n",
      "Nb stations (st, pre_st, ext, out, total) :  5 0 53 85 143\n",
      "Nb stations (st, pre_st, ext, out, total) :  5 0 53 85 143\n",
      "Nb stations (st, pre_st, ext, out, total) :  0 0 0 0 0\n",
      "Nb stations (st, pre_st, ext, out, total) :  0 0 0 0 0\n",
      "nb stations / scenario :  {'vl_c_25': 52, 'vl_c_27': 52, 'vl_g_27': 93, 'pl_g_25': 0, 'pl_c_27': 0}\n"
     ]
    }
   ],
   "source": [
    "stations = stations[stations.operateur=='Tesla']\n",
    "log=True\n",
    "vl_g_27 = Afir(gr_rtet, stations, log=log, **vl_global_2027)\n",
    "vl_c_25 = Afir(gr_rtet, stations, log=log, **vl_central_2025)\n",
    "vl_c_27 = Afir(gr_rtet, stations, log=log, **vl_central_2027)\n",
    "pl_g_25 = Afir(gr_rtet, stations, log=log, **pl_global_2025)\n",
    "pl_c_27 = Afir(gr_rtet, stations, log=log, **pl_central_2027)\n",
    "scenarios = {'vl_c_25': vl_c_25, \n",
    "             'vl_c_27': vl_c_27, \n",
    "             'vl_g_27': vl_g_27, \n",
    "             'pl_g_25': pl_g_25, \n",
    "             'pl_c_27': pl_c_27}\n",
    "\n",
    "print('nb stations / scenario : ', {key: len(scenar.gs_all) for key, scenar in scenarios.items()})"
   ]
  },
  {
   "cell_type": "code",
   "execution_count": 38,
   "id": "f1bcf254-4f71-42aa-955c-f131481a8af1",
   "metadata": {},
   "outputs": [
    {
     "data": {
      "text/plain": [
       "(10572.05878753935, 4988.535660391025)"
      ]
     },
     "execution_count": 38,
     "metadata": {},
     "output_type": "execute_result"
    }
   ],
   "source": [
    "vl_g_27.gr_autoroute.size(weight=\"weight\") / 1000, vl_c_25.gr_autoroute.size(weight=\"weight\") / 1000"
   ]
  },
  {
   "cell_type": "code",
   "execution_count": 39,
   "id": "65e3aad0-60a0-4620-8a90-09bd487c518e",
   "metadata": {},
   "outputs": [
    {
     "data": {
      "text/plain": [
       "(234, 142)"
      ]
     },
     "execution_count": 39,
     "metadata": {},
     "output_type": "execute_result"
    }
   ],
   "source": [
    "len(vl_g_27.gr_aire_service), len(vl_c_25.gr_aire_service)"
   ]
  },
  {
   "cell_type": "code",
   "execution_count": 40,
   "id": "92a26511-ff24-431e-8fb3-61094136ad29",
   "metadata": {},
   "outputs": [
    {
     "data": {
      "text/plain": [
       "(143, 143)"
      ]
     },
     "execution_count": 40,
     "metadata": {},
     "output_type": "execute_result"
    }
   ],
   "source": [
    "len(vl_g_27.stations), len(vl_c_25.stations)"
   ]
  },
  {
   "cell_type": "code",
   "execution_count": 41,
   "id": "784e4792-0f9b-4522-9685-13870439e6bb",
   "metadata": {},
   "outputs": [
    {
     "data": {
      "text/html": [
       "<div>\n",
       "<style scoped>\n",
       "    .dataframe tbody tr th:only-of-type {\n",
       "        vertical-align: middle;\n",
       "    }\n",
       "\n",
       "    .dataframe tbody tr th {\n",
       "        vertical-align: top;\n",
       "    }\n",
       "\n",
       "    .dataframe thead th {\n",
       "        text-align: right;\n",
       "    }\n",
       "</style>\n",
       "<table border=\"1\" class=\"dataframe\">\n",
       "  <thead>\n",
       "    <tr style=\"text-align: right;\">\n",
       "      <th></th>\n",
       "      <th>index</th>\n",
       "      <th>p_cum</th>\n",
       "      <th>p_max</th>\n",
       "      <th>id_station</th>\n",
       "      <th>operateur</th>\n",
       "      <th>amenageur</th>\n",
       "      <th>geometry</th>\n",
       "      <th>node_id</th>\n",
       "      <th>nature</th>\n",
       "    </tr>\n",
       "  </thead>\n",
       "  <tbody>\n",
       "    <tr>\n",
       "      <th>0</th>\n",
       "      <td>7</td>\n",
       "      <td>3000.0</td>\n",
       "      <td>250.0</td>\n",
       "      <td>FRTSLP29658</td>\n",
       "      <td>Tesla</td>\n",
       "      <td>Tesla</td>\n",
       "      <td>POINT (654706.384 6423470.762)</td>\n",
       "      <td>2856</td>\n",
       "      <td>station_irve</td>\n",
       "    </tr>\n",
       "    <tr>\n",
       "      <th>1</th>\n",
       "      <td>17</td>\n",
       "      <td>5000.0</td>\n",
       "      <td>250.0</td>\n",
       "      <td>FRTSLP29903</td>\n",
       "      <td>Tesla</td>\n",
       "      <td>Tesla</td>\n",
       "      <td>POINT (643951.943 6234356.776)</td>\n",
       "      <td>2866</td>\n",
       "      <td>station_irve</td>\n",
       "    </tr>\n",
       "    <tr>\n",
       "      <th>2</th>\n",
       "      <td>19</td>\n",
       "      <td>8000.0</td>\n",
       "      <td>250.0</td>\n",
       "      <td>FRTSLP30379</td>\n",
       "      <td>Tesla</td>\n",
       "      <td>Tesla</td>\n",
       "      <td>POINT (683652.579 6956738.169)</td>\n",
       "      <td>2868</td>\n",
       "      <td>station_irve</td>\n",
       "    </tr>\n",
       "    <tr>\n",
       "      <th>3</th>\n",
       "      <td>20</td>\n",
       "      <td>7000.0</td>\n",
       "      <td>250.0</td>\n",
       "      <td>FRTSLP28778</td>\n",
       "      <td>Tesla</td>\n",
       "      <td>Tesla</td>\n",
       "      <td>POINT (492847.553 6608921.695)</td>\n",
       "      <td>2869</td>\n",
       "      <td>station_irve</td>\n",
       "    </tr>\n",
       "    <tr>\n",
       "      <th>4</th>\n",
       "      <td>31</td>\n",
       "      <td>3000.0</td>\n",
       "      <td>250.0</td>\n",
       "      <td>FRTSLP27649</td>\n",
       "      <td>Tesla</td>\n",
       "      <td>Tesla</td>\n",
       "      <td>POINT (1024864.473 6789967.904)</td>\n",
       "      <td>2880</td>\n",
       "      <td>station_irve</td>\n",
       "    </tr>\n",
       "    <tr>\n",
       "      <th>...</th>\n",
       "      <td>...</td>\n",
       "      <td>...</td>\n",
       "      <td>...</td>\n",
       "      <td>...</td>\n",
       "      <td>...</td>\n",
       "      <td>...</td>\n",
       "      <td>...</td>\n",
       "      <td>...</td>\n",
       "      <td>...</td>\n",
       "    </tr>\n",
       "    <tr>\n",
       "      <th>138</th>\n",
       "      <td>1276</td>\n",
       "      <td>4000.0</td>\n",
       "      <td>250.0</td>\n",
       "      <td>FRTSLP13281</td>\n",
       "      <td>Tesla</td>\n",
       "      <td>Tesla</td>\n",
       "      <td>POINT (771062.996 6906370.735)</td>\n",
       "      <td>4125</td>\n",
       "      <td>station_irve</td>\n",
       "    </tr>\n",
       "    <tr>\n",
       "      <th>139</th>\n",
       "      <td>1293</td>\n",
       "      <td>3000.0</td>\n",
       "      <td>250.0</td>\n",
       "      <td>FRTSLP30255</td>\n",
       "      <td>Tesla</td>\n",
       "      <td>Tesla</td>\n",
       "      <td>POINT (861567.764 6439213.806)</td>\n",
       "      <td>4142</td>\n",
       "      <td>station_irve</td>\n",
       "    </tr>\n",
       "    <tr>\n",
       "      <th>140</th>\n",
       "      <td>1294</td>\n",
       "      <td>4000.0</td>\n",
       "      <td>250.0</td>\n",
       "      <td>FRTSLP14836</td>\n",
       "      <td>Tesla</td>\n",
       "      <td>Tesla</td>\n",
       "      <td>POINT (836661.443 6526066.038)</td>\n",
       "      <td>4143</td>\n",
       "      <td>station_irve</td>\n",
       "    </tr>\n",
       "    <tr>\n",
       "      <th>141</th>\n",
       "      <td>1303</td>\n",
       "      <td>3000.0</td>\n",
       "      <td>250.0</td>\n",
       "      <td>FRTSLP30237</td>\n",
       "      <td>Tesla</td>\n",
       "      <td>Tesla</td>\n",
       "      <td>POINT (901324.826 6247107.405)</td>\n",
       "      <td>4152</td>\n",
       "      <td>station_irve</td>\n",
       "    </tr>\n",
       "    <tr>\n",
       "      <th>142</th>\n",
       "      <td>1312</td>\n",
       "      <td>3000.0</td>\n",
       "      <td>250.0</td>\n",
       "      <td>FRTSLP29873</td>\n",
       "      <td>Tesla</td>\n",
       "      <td>Tesla</td>\n",
       "      <td>POINT (670800.923 6831683.255)</td>\n",
       "      <td>4161</td>\n",
       "      <td>station_irve</td>\n",
       "    </tr>\n",
       "  </tbody>\n",
       "</table>\n",
       "<p>143 rows × 9 columns</p>\n",
       "</div>"
      ],
      "text/plain": [
       "     index   p_cum  p_max   id_station operateur amenageur  \\\n",
       "0        7  3000.0  250.0  FRTSLP29658     Tesla     Tesla   \n",
       "1       17  5000.0  250.0  FRTSLP29903     Tesla     Tesla   \n",
       "2       19  8000.0  250.0  FRTSLP30379     Tesla     Tesla   \n",
       "3       20  7000.0  250.0  FRTSLP28778     Tesla     Tesla   \n",
       "4       31  3000.0  250.0  FRTSLP27649     Tesla     Tesla   \n",
       "..     ...     ...    ...          ...       ...       ...   \n",
       "138   1276  4000.0  250.0  FRTSLP13281     Tesla     Tesla   \n",
       "139   1293  3000.0  250.0  FRTSLP30255     Tesla     Tesla   \n",
       "140   1294  4000.0  250.0  FRTSLP14836     Tesla     Tesla   \n",
       "141   1303  3000.0  250.0  FRTSLP30237     Tesla     Tesla   \n",
       "142   1312  3000.0  250.0  FRTSLP29873     Tesla     Tesla   \n",
       "\n",
       "                            geometry  node_id        nature  \n",
       "0     POINT (654706.384 6423470.762)     2856  station_irve  \n",
       "1     POINT (643951.943 6234356.776)     2866  station_irve  \n",
       "2     POINT (683652.579 6956738.169)     2868  station_irve  \n",
       "3     POINT (492847.553 6608921.695)     2869  station_irve  \n",
       "4    POINT (1024864.473 6789967.904)     2880  station_irve  \n",
       "..                               ...      ...           ...  \n",
       "138   POINT (771062.996 6906370.735)     4125  station_irve  \n",
       "139   POINT (861567.764 6439213.806)     4142  station_irve  \n",
       "140   POINT (836661.443 6526066.038)     4143  station_irve  \n",
       "141   POINT (901324.826 6247107.405)     4152  station_irve  \n",
       "142   POINT (670800.923 6831683.255)     4161  station_irve  \n",
       "\n",
       "[143 rows x 9 columns]"
      ]
     },
     "execution_count": 41,
     "metadata": {},
     "output_type": "execute_result"
    }
   ],
   "source": [
    "vl_g_27.stations"
   ]
  },
  {
   "cell_type": "code",
   "execution_count": 44,
   "id": "5a64e145-ed4e-4c17-8801-c120782a8ab2",
   "metadata": {},
   "outputs": [
    {
     "data": {
      "text/plain": [
       "['FRTSLP11605', 'FRTSLP16456', 'FRTSLP11417', 'FRTSLP11606', 'FRTSLP29498']"
      ]
     },
     "execution_count": 44,
     "metadata": {},
     "output_type": "execute_result"
    }
   ],
   "source": [
    "list(vl_g_27.gs_station.to_geopandas_nodelist()['id_station'])"
   ]
  },
  {
   "cell_type": "code",
   "execution_count": 10,
   "id": "82eb3783-fc08-4e48-8eae-5ef3c115e06b",
   "metadata": {},
   "outputs": [
    {
     "data": {
      "text/plain": [
       "array(['Power Dot France', 'Tesla'], dtype=object)"
      ]
     },
     "execution_count": 10,
     "metadata": {},
     "output_type": "execute_result"
    }
   ],
   "source": [
    "stat_g = vl_g_27.gs_all.to_geopandas_nodelist()\n",
    "stat_g['operateur'].unique()"
   ]
  },
  {
   "cell_type": "code",
   "execution_count": 11,
   "id": "346683a4-c744-4fb4-9f29-fb79af9a4815",
   "metadata": {},
   "outputs": [
    {
     "data": {
      "text/plain": [
       "(1780, 66, 68, 1646)"
      ]
     },
     "execution_count": 11,
     "metadata": {},
     "output_type": "execute_result"
    }
   ],
   "source": [
    "len(vl_g_27.gs_all), len(vl_g_27.gs_station), len(vl_g_27.gs_pre_station), len(vl_g_27.gs_externe)"
   ]
  },
  {
   "cell_type": "code",
   "execution_count": 12,
   "id": "b9fc727b-7120-4237-b6bf-ea63e74bdd77",
   "metadata": {},
   "outputs": [
    {
     "data": {
      "text/plain": [
       "(1102, 66, 0, 1036)"
      ]
     },
     "execution_count": 12,
     "metadata": {},
     "output_type": "execute_result"
    }
   ],
   "source": [
    "len(vl_c_25.gs_all), len(vl_c_25.gs_station), len(vl_c_25.gs_pre_station), len(vl_c_25.gs_externe)"
   ]
  },
  {
   "cell_type": "code",
   "execution_count": null,
   "id": "5e5c0d18-8e2a-4191-9f72-8803998de474",
   "metadata": {},
   "outputs": [],
   "source": [
    "scenar = 'vl_g_27'\n",
    "scenar = 'vl_c_25'\n",
    "#scenar = 'vl_c_27'\n",
    "#scenar = 'pl_g_25'\n",
    "#scenar = 'pl_c_27'\n",
    "\n",
    "afir = scenarios[scenar]\n",
    "afir_name = scenar"
   ]
  },
  {
   "cell_type": "markdown",
   "id": "7d1db8f3-5212-4a38-a7e1-fa19b30a8ded",
   "metadata": {},
   "source": [
    "## Exemples d'utilisation"
   ]
  },
  {
   "cell_type": "code",
   "execution_count": null,
   "id": "d7347f5f-143d-4d5b-989b-3e660b771217",
   "metadata": {},
   "outputs": [],
   "source": [
    "afir.stations"
   ]
  },
  {
   "cell_type": "code",
   "execution_count": null,
   "id": "4f8a23bf-cf8e-4ca5-b659-614158b2c24d",
   "metadata": {},
   "outputs": [],
   "source": [
    "len(afir.reseau)"
   ]
  },
  {
   "cell_type": "markdown",
   "id": "1e23df4c-7ed2-4046-89cb-10254d9141a5",
   "metadata": {},
   "source": [
    "### Trajet entre deux stations\n",
    "Exemple entre la station '4128' (Bollene) et la station '4148' (saint-martin de crau)"
   ]
  },
  {
   "cell_type": "code",
   "execution_count": null,
   "id": "3bc9ed87-91b8-4386-8bca-72280e6e7621",
   "metadata": {},
   "outputs": [],
   "source": [
    "reseau = afir.reseau\n",
    "bollene = [node for node in reseau.nodes if reseau.nodes[node].get('id_station') == 'FR*IZF*EFAST*95*1*3']\n",
    "bollene = bollene[0] if bollene else None\n",
    "st_martin_de_crau = [node for node in reseau.nodes if reseau.nodes[node].get('id_station') == 'FR*PVD*EVG*SMC13*D01*1']\n",
    "st_martin_de_crau = st_martin_de_crau[0] if st_martin_de_crau else None\n",
    "trajet = bollene and st_martin_de_crau\n",
    "print('trajet : ', bollene, st_martin_de_crau)"
   ]
  },
  {
   "cell_type": "code",
   "execution_count": null,
   "id": "9ec0cf68-9c60-4341-a6ba-6e40ee11a74c",
   "metadata": {},
   "outputs": [],
   "source": [
    "if trajet:\n",
    "    path = afir.gp_trajet(source=bollene, target=st_martin_de_crau, graph=False)\n",
    "    print('distance entre les stations : ', nx.path_weight(reseau, path, 'weight'))\n",
    "    gp_path = afir.gp_trajet(source=bollene, target=st_martin_de_crau)\n",
    "    print('trajet : ', gp_path)"
   ]
  },
  {
   "cell_type": "markdown",
   "id": "303a333f-8c5f-4eda-add1-7a34eb074ed8",
   "metadata": {},
   "source": [
    "### Tronçons avec un faible maillage \n",
    "\n",
    "Identification des tronçons avec maillage insuffisant:\n",
    "- un tronçon est non maillé s'il existe un point de ce tronçon situé à une distance de la plus proche station supérieure à un seuil,\n",
    "- un tronçon est peu maillé s'il est sur la même branche (ensemble de tronçons entre deux stations disponibles ou bifurcations) qu'un tronçon maillé.\n",
    "\n",
    "La station '4501' (gap) est considéré pour cet exemple comme indisponible."
   ]
  },
  {
   "cell_type": "code",
   "execution_count": null,
   "id": "d78f6e4d-5cdc-4dcf-b602-c4c54c8f0ddf",
   "metadata": {},
   "outputs": [],
   "source": [
    "for afir_name, afir_sce in scenarios.items():\n",
    "    indic_n = afir_sce.indicateur_afir(etendu=False)\n",
    "    indic_p = afir_sce.indicateur_afir(etendu=True)\n",
    "    print(afir_name, \"pourcentage atteint : \", indic_p['ratio afir'] * 100, 'mini : ', indic_n['ratio afir'] * 100)\n",
    "    print(\"distance totale, restante : \", afir_sce.size_rtet / 1000, indic_p['distance restante'] / 1000)"
   ]
  },
  {
   "cell_type": "markdown",
   "id": "2f7bf8fe-2fee-4520-8a8c-d0f7c1014d6e",
   "metadata": {},
   "source": [
    "## Exemples de restitutions"
   ]
  },
  {
   "cell_type": "code",
   "execution_count": null,
   "id": "a3678a6e-11b6-42dc-a0e9-d83a48197d23",
   "metadata": {},
   "outputs": [],
   "source": [
    "param_exp_gs = {'e_tooltip': [\"source\", \"target\"], 'e_popup': ['nature', 'weight', 'source', 'target'], 'e_color': 'grey',\n",
    "                'n_name': 'station', 'e_name': 'liaison station', 'n_popup': ['amenageur', 'operateur', 'p_cum', 'p_max', 'node_id', 'id_station'], \n",
    "                'n_tooltip': \"amenageur\", 'n_color': 'green', 'n_marker_kwds': {'radius': 4, 'fill': True}}\n",
    "\n",
    "param_exp_gr = {'e_popup': ['weight', 'source', 'target', 'core', \"CORRIDORS\", \"INTROADNUM\", \"NATIONALRO\", \"ID\", \"nature\"], \n",
    "                'n_popup': ['roadname', 'nom', 'node_id'],\n",
    "                'e_tooltip': [\"source\", \"target\", \"nature\", \"core\"], \n",
    "                'n_tooltip': [\"node_id\", \"nature\"], 'n_marker_kwds': {'radius': 1, 'fill': False}}"
   ]
  },
  {
   "cell_type": "markdown",
   "id": "0ec3d7e7-c185-40f0-96cf-e22257790ec3",
   "metadata": {},
   "source": [
    "### restitution du maillage"
   ]
  },
  {
   "cell_type": "code",
   "execution_count": null,
   "id": "6e1d4ad0-61b6-438e-8b50-3acf20c37511",
   "metadata": {
    "scrolled": true
   },
   "outputs": [],
   "source": [
    "gr_non_maille = afir.gr_non_maille(etendu=False, dispo='dispo')\n",
    "gr_peu_maille = afir.gr_non_maille(etendu=True, dispo='dispo')"
   ]
  },
  {
   "cell_type": "code",
   "execution_count": null,
   "id": "e6905d85-f9cb-4f14-b101-e303fc9523b3",
   "metadata": {},
   "outputs": [],
   "source": [
    "param_sat = {'e_name': 'non_mailles', 'e_color': 'red'}\n",
    "param_ext_sat = {'e_name': 'peu_mailles', 'e_color': 'orange'}\n",
    "\n",
    "carte = afir.gs_all.explore(refmap=refnat, **param_exp_gs)\n",
    "carte = afir.gr_all.explore(refmap=carte, **param_exp_gr)\n",
    "carte = gr_peu_maille.explore(refmap=carte, nodes=False, **param_ext_sat)\n",
    "carte = gr_non_maille.explore(refmap=carte, layercontrol=True, nodes=False, **param_sat)\n",
    "carte.save(afir_name + '.html')\n",
    "carte"
   ]
  },
  {
   "cell_type": "markdown",
   "id": "6deb66e7-f045-48d0-9892-b386a30acb75",
   "metadata": {},
   "source": [
    "### restitution d'un trajet"
   ]
  },
  {
   "cell_type": "code",
   "execution_count": null,
   "id": "2418a834-f6a1-4dc3-84ce-cd2443a32e7e",
   "metadata": {
    "scrolled": true
   },
   "outputs": [],
   "source": [
    "#param_exp_gr = {'e_name': 'edges', 'n_name': 'nodes', 'e_popup': ['weight', 'source', 'target'], 'e_tooltip': [\"source\", \"target\"], \n",
    "#                'n_tooltip': [\"node_id\", \"nature\"], 'n_marker_kwds': {'radius': 1, 'fill': False}}\n",
    "param_exp_path = {'e_name': 'path', 'e_color': 'red'}\n",
    "refmap = {'tiles': 'cartodbpositron', 'location': [43.8, 5], 'zoom_start': 9}\n",
    "\n",
    "if trajet:    \n",
    "    carte = afir.gs_all.explore(refmap=refmap, **param_exp_gs)\n",
    "    carte = afir.reseau.explore(refmap=carte, n_color='black', e_name='edges rtet', n_name='nodes rtet', **param_exp_gr)\n",
    "    carte = gp_path.explore(refmap=carte, layercontrol=True, nodes=False, **param_exp_path)\n",
    "carte"
   ]
  },
  {
   "cell_type": "markdown",
   "id": "c4463214-9bba-45b3-ab3f-9cfac772bb2a",
   "metadata": {},
   "source": [
    "### restitution du réseau RTE-T global et central"
   ]
  },
  {
   "cell_type": "code",
   "execution_count": null,
   "id": "3ca266c1-6fab-4b05-ab16-12ac60680c11",
   "metadata": {
    "scrolled": true
   },
   "outputs": [],
   "source": [
    "param_exp_gr = {'e_popup': ['weight', 'source', 'target', 'NATIONALRO', 'ID', 'nature', 'core'], 'e_tooltip': [\"source\", \"target\", \"nature\", \"core\"], \n",
    "                'n_tooltip': [\"node_id\"], 'n_marker_kwds': {'radius': 1, 'fill': False}}\n",
    "\n",
    "\n",
    "carte = afir.gr_rtet_global.explore(refmap=refnat, e_color='cyan', e_name='edges global', n_name='nodes global',  n_color='black', **param_exp_gr)\n",
    "carte = afir.gr_rtet_central.explore(refmap=carte, n_color='black', e_name='edges central', n_name='nodes central', layercontrol=True, **param_exp_gr)\n",
    "carte"
   ]
  },
  {
   "cell_type": "markdown",
   "id": "fd5c9162-5578-4ce2-b5c3-3fbe5cfe74dc",
   "metadata": {},
   "source": [
    "### restitution du réseau autoroute"
   ]
  },
  {
   "cell_type": "code",
   "execution_count": null,
   "id": "9bd3276e-90e2-45d0-9638-0c314fcc3987",
   "metadata": {
    "scrolled": true
   },
   "outputs": [],
   "source": [
    "param_exp_gr = {'e_popup': ['weight', 'source', 'target', 'NATIONALRO', 'ID', 'nature'], 'e_tooltip': [\"source\", \"target\", \"nature\"], \n",
    "                'n_tooltip': [\"node_id\"], 'n_marker_kwds': {'radius': 1, 'fill': False}}\n",
    "\n",
    "\n",
    "\n",
    "carte = afir.gr_hors_autoroute.explore(refmap=refnat, e_color='green', e_name='edges hors autoroute', n_name='nodes hors autoroute', n_color='black', **param_exp_gr)\n",
    "carte = afir.gr_autoroute.explore(refmap=carte, n_color='black', e_name='edges autoroute', n_name='nodes autoroute', layercontrol=True, **param_exp_gr)\n",
    "carte"
   ]
  },
  {
   "cell_type": "markdown",
   "id": "f9cd93d4-d33a-45aa-b9d1-988d77ae1295",
   "metadata": {},
   "source": [
    "### Restitution des noeuds du réseau RTE-T"
   ]
  },
  {
   "cell_type": "code",
   "execution_count": null,
   "id": "42c9eaba-88d2-4341-a0e8-b7ea3a60ec8a",
   "metadata": {
    "scrolled": true
   },
   "outputs": [],
   "source": [
    "param_exp_gr = {'e_popup': ['weight', 'source', 'target', \"CORRIDORS\", \"INTROADNUM\", \"NATIONALRO\", \"ID\", \"nature\", \"core\"], \n",
    "                'n_popup': ['roadname', 'nom', 'node_id'],\n",
    "                'e_tooltip': [\"source\", \"target\", \"nature\", \"core\"], \n",
    "                'n_tooltip': [\"node_id\", \"nature\"], 'n_marker_kwds': {'radius': 1, 'fill': False}}\n",
    "param_exp_as = {'n_name': 'aire de service', 'n_color': 'red', 'n_marker_kwds': {'radius': 3, 'fill': True}}\n",
    "param_exp_ech = {'n_name': 'echangeur', 'n_color': 'blue', 'n_marker_kwds': {'radius': 3, 'fill': True}}\n",
    "param_exp_rp = {'n_name': 'rond-point', 'n_color': 'purple', 'n_marker_kwds': {'radius': 3, 'fill': True}}\n",
    "\n",
    "carte = afir.gr_rond_point.explore(refmap=refnat, edges=False, **param_exp_rp)\n",
    "carte = afir.gr_echangeur.explore(refmap=carte, edges=False, **param_exp_ech)\n",
    "carte = afir.gr_aire_service.explore(refmap=carte, edges=False, **param_exp_as)\n",
    "carte = afir.gr_hors_autoroute.explore(refmap=carte, e_color='green', e_name='edges hors autoroute', n_name='nodes hors autoroute', n_color='black', **param_exp_gr)\n",
    "carte = afir.gr_autoroute.explore(refmap=carte, n_color='black', e_name='edges autoroute', n_name='nodes autoroute', layercontrol=True, **param_exp_gr)\n",
    "carte"
   ]
  },
  {
   "cell_type": "markdown",
   "id": "df6ef5cb-0117-441d-81a0-005e5f61cc60",
   "metadata": {},
   "source": [
    "### Restitution du réseau des stations IRVE\n",
    "\n",
    "- vert: aires de service\n",
    "- rouge: aires de recharge\n",
    "- violet: stations extérieures"
   ]
  },
  {
   "cell_type": "code",
   "execution_count": null,
   "id": "828b19cb-9372-4cf0-b7bd-90834c0e5b5c",
   "metadata": {
    "scrolled": true
   },
   "outputs": [],
   "source": [
    "param_exp_nd = {'n_marker_kwds': {'radius': 3, 'fill': True}}\n",
    "param_exp_gs = {'e_tooltip': [\"source\", \"target\"], 'e_popup': ['type', 'weight', 'source', 'target'], 'e_color': 'grey',\n",
    "                'n_name': 'station', 'e_name': 'liaison station', 'n_popup': ['amenageur', 'operateur', 'p_cum', 'p_max', 'node_id', 'id_station'], \n",
    "                'n_tooltip': \"amenageur\", 'n_color': 'green', 'n_marker_kwds': {'radius': 4, 'fill': True}}\n",
    "param_exp_gr = {'e_name': 'edges', 'n_name': 'nodes', \n",
    "                'e_popup': ['weight', 'source', 'target', 'core', 'nature', \"CORRIDORS\", \"INTROADNUM\", \"NATIONALRO\"], \n",
    "                'e_tooltip': [\"source\", \"target\"], 'n_tooltip': [\"node_id\", \"nature\"], 'n_marker_kwds': {'radius': 1, 'fill': False}}\n",
    "\n",
    "carte = afir.gs_station.explore(refmap=refnat, n_color='green', n_name='aire de service', **param_exp_nd)\n",
    "carte = afir.gs_pre_station.explore(refmap=carte, n_color='red', n_name='aire de recharge', **param_exp_nd)\n",
    "carte = afir.gs_externe.explore(refmap=carte, n_color='purple', n_name='stations extérieures', **param_exp_nd)\n",
    "carte = afir.reseau.explore(refmap=carte, layercontrol=True, n_color='black', **param_exp_gr)\n",
    "carte"
   ]
  }
 ],
 "metadata": {
  "kernelspec": {
   "display_name": "Python 3 (ipykernel)",
   "language": "python",
   "name": "python3"
  },
  "language_info": {
   "codemirror_mode": {
    "name": "ipython",
    "version": 3
   },
   "file_extension": ".py",
   "mimetype": "text/x-python",
   "name": "python",
   "nbconvert_exporter": "python",
   "pygments_lexer": "ipython3",
   "version": "3.12.4"
  }
 },
 "nbformat": 4,
 "nbformat_minor": 5
}
