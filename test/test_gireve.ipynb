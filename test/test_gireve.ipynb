{
 "cells": [
  {
   "cell_type": "code",
   "execution_count": null,
   "id": "a42d966c-bce8-44d7-a853-520b138c2b26",
   "metadata": {},
   "outputs": [],
   "source": [
    "'''import os\n",
    "import sys\n",
    "new_path = os.getcwd()[:-26] + 'qualicharge-rtet'\n",
    "sys.path.append(new_path)'''"
   ]
  },
  {
   "cell_type": "code",
   "execution_count": 19,
   "id": "a2da3af9-b00d-4d02-b93f-93d826fa80c3",
   "metadata": {},
   "outputs": [],
   "source": [
    "from shapely import LineString, Point, boundary\n",
    "import geopandas as gpd\n",
    "import geo_nx as gnx \n",
    "import networkx as nx \n",
    "import numpy as np\n",
    "import pandas as pd\n",
    "import geo_nx.utils as utils\n",
    "from networkx.utils import graphs_equal\n",
    "from qualicharge_rtet import creation_pandas_stations"
   ]
  },
  {
   "cell_type": "code",
   "execution_count": 29,
   "id": "49d13935-4ee9-468a-9df8-481d1c762050",
   "metadata": {},
   "outputs": [
    {
     "name": "stdout",
     "output_type": "stream",
     "text": [
      "nb pdc :  131021\n",
      "puissance installée :  6827662.2\n"
     ]
    }
   ],
   "source": [
    "csl = pd.read_csv(data_path + \"csl_gireve202501.csv\", sep=\";\", encoding=\"latin\")\n",
    "if csl[\"puissance_nominale\"].dtype != np.dtype('float64'):\n",
    "    csl[\"puissance_nominale\"] = csl[\"puissance_nominale\"].str.replace(',', '.').astype(float)\n",
    "print('nb pdc : ', len(csl))\n",
    "print('puissance installée : ', csl[\"puissance_nominale\"].sum())"
   ]
  },
  {
   "cell_type": "code",
   "execution_count": 30,
   "id": "50ea4d66-af66-46dc-8de0-1d6799c68e2c",
   "metadata": {},
   "outputs": [
    {
     "data": {
      "text/plain": [
       "puissance_nominale\n",
       "[7.4, 22.1)            93644\n",
       "[150.0, 350.0)         13709\n",
       "[50.0, 150.0)           9701\n",
       "[0.0, 7.4)              6731\n",
       "[22.1, 50.0)            4078\n",
       "[350.0, 10000000.0)     3158\n",
       "Name: count, dtype: int64"
      ]
     },
     "execution_count": 30,
     "metadata": {},
     "output_type": "execute_result"
    }
   ],
   "source": [
    "intervals = [(0,7.4,'left'), (7.4, 22.1,'left'), (22.1, 50.0,'left'), (50, 150.0, 'left'), (150, 350.0, 'left'), (350, 10000000, 'left')]\n",
    "bins = pd.IntervalIndex([pd.Interval(d,f,mode) for d,f,mode in intervals])\n",
    "pd.cut(csl[\"puissance_nominale\"], bins).value_counts()"
   ]
  }
 ],
 "metadata": {
  "kernelspec": {
   "display_name": "Python 3 (ipykernel)",
   "language": "python",
   "name": "python3"
  },
  "language_info": {
   "codemirror_mode": {
    "name": "ipython",
    "version": 3
   },
   "file_extension": ".py",
   "mimetype": "text/x-python",
   "name": "python",
   "nbconvert_exporter": "python",
   "pygments_lexer": "ipython3",
   "version": "3.12.4"
  }
 },
 "nbformat": 4,
 "nbformat_minor": 5
}
