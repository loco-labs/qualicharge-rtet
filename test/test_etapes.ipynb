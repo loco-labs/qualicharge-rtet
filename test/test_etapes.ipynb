{
 "cells": [
  {
   "cell_type": "code",
   "execution_count": 1,
   "id": "564629ce-cd16-4b24-ab73-8e20b4b96ad9",
   "metadata": {},
   "outputs": [],
   "source": [
    "from test_etapes import process"
   ]
  },
  {
   "cell_type": "code",
   "execution_count": 2,
   "id": "4f055c7e-502d-41e9-90fb-47b73f836c1b",
   "metadata": {},
   "outputs": [
    {
     "data": {
      "text/plain": [
       "[3,\n",
       " {'param': 10, 'val1': 11},\n",
       " {'param': 10, 'val1': 11, 'val2': 'étape 2'},\n",
       " {'param': 10, 'res': 'fini'}]"
      ]
     },
     "execution_count": 2,
     "metadata": {},
     "output_type": "execute_result"
    }
   ],
   "source": [
    "param = 10\n",
    "steps = 3\n",
    "\n",
    "\n",
    "#for i in range(3):\n",
    "#    print(process(param, True))\n",
    "list(process(param, True))"
   ]
  },
  {
   "cell_type": "code",
   "execution_count": 3,
   "id": "91cde7a5-3157-4b63-9450-754c04424035",
   "metadata": {},
   "outputs": [
    {
     "data": {
      "text/plain": [
       "3"
      ]
     },
     "execution_count": 3,
     "metadata": {},
     "output_type": "execute_result"
    }
   ],
   "source": [
    "x = process(param, True)\n",
    "steps = next(x)\n",
    "steps"
   ]
  },
  {
   "cell_type": "code",
   "execution_count": 4,
   "id": "d5847ee5-b720-4f36-bed2-27ac905215dd",
   "metadata": {},
   "outputs": [
    {
     "name": "stdout",
     "output_type": "stream",
     "text": [
      "{'param': 10, 'val1': 11}\n",
      "{'param': 10, 'val1': 11, 'val2': 'étape 2'}\n",
      "{'param': 10, 'res': 'fini'}\n"
     ]
    }
   ],
   "source": [
    "for i in range(steps):\n",
    "    print(next(x))"
   ]
  },
  {
   "cell_type": "code",
   "execution_count": 7,
   "id": "b3cc98af-abbb-4cb7-9066-a58e550223ad",
   "metadata": {},
   "outputs": [],
   "source": [
    "y = process(param, False)"
   ]
  },
  {
   "cell_type": "code",
   "execution_count": 8,
   "id": "7fc81655-e49d-41a6-8392-f926003cc794",
   "metadata": {},
   "outputs": [
    {
     "data": {
      "text/plain": [
       "{'param': 10, 'res': 'fini'}"
      ]
     },
     "execution_count": 8,
     "metadata": {},
     "output_type": "execute_result"
    }
   ],
   "source": [
    "next(y)"
   ]
  }
 ],
 "metadata": {
  "kernelspec": {
   "display_name": "Python 3 (ipykernel)",
   "language": "python",
   "name": "python3"
  },
  "language_info": {
   "codemirror_mode": {
    "name": "ipython",
    "version": 3
   },
   "file_extension": ".py",
   "mimetype": "text/x-python",
   "name": "python",
   "nbconvert_exporter": "python",
   "pygments_lexer": "ipython3",
   "version": "3.12.4"
  }
 },
 "nbformat": 4,
 "nbformat_minor": 5
}
