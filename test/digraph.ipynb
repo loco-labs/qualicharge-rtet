{
 "cells": [
  {
   "cell_type": "code",
   "execution_count": 1,
   "id": "8edee9f6-8ed6-482d-81d4-189b31d816c4",
   "metadata": {},
   "outputs": [],
   "source": [
    "import unittest\n",
    "\n",
    "from shapely import LineString, Point\n",
    "import geopandas as gpd\n",
    "import geo_nx as gnx \n",
    "import networkx as nx \n",
    "import pandas as pd\n",
    "import geo_nx.utils as utils\n",
    "from networkx.utils import graphs_equal\n",
    "\n",
    "paris = Point(2.3514, 48.8575)\n",
    "lyon = Point(4.8357, 45.7640)\n",
    "marseille = Point(5.3691, 43.3026)\n",
    "bordeaux = Point(-0.56667, 44.833328)"
   ]
  },
  {
   "cell_type": "code",
   "execution_count": 2,
   "id": "6196df27-d087-4c5a-afc2-4639044883f1",
   "metadata": {},
   "outputs": [],
   "source": [
    "from itertools import product\n",
    "\n",
    "def di_neighbors(dgr, node, uturn=False, nopath=None):\n",
    "    e_nodes = [str(node) + 'e'+ str(pnd) for pnd in dgr.predecessors(node)]\n",
    "    s_nodes = [str(node) + 's'+ str(snd) for snd in dgr.successors(node)]\n",
    "    m_edges = list(product(e_nodes, s_nodes))\n",
    "    if not uturn:\n",
    "        m_edges = [edge for edge in m_edges if edge[0].replace(\"e\", \"s\") != edge[1]]\n",
    "    if nopath:\n",
    "        no_edges = [ (str(node) + 'e' + str(edge[0]), str(node) + 's' + str(edge[1])) for edge in nopath]\n",
    "        return list(set(m_edges) - set(no_edges))\n",
    "    return m_edges"
   ]
  },
  {
   "cell_type": "code",
   "execution_count": 3,
   "id": "021acea3-8555-4fef-af3a-db7a0e309c9d",
   "metadata": {},
   "outputs": [],
   "source": [
    "def insert_di_nodes(dgr, node, uturn=False, nopath=None):\n",
    "    m_edges = di_neighbors(dgr, node, uturn, nopath)\n",
    "    pred_nodes = list(dgr.predecessors(node))\n",
    "    succ_nodes = list(dgr.successors(node))\n",
    "    for pnd in pred_nodes:\n",
    "        dgr.remove_edge(pnd, node)\n",
    "        dgr.add_edge(pnd, str(node) + 'e' + str(pnd))\n",
    "    for snd in succ_nodes:\n",
    "        dgr.remove_edge(node, snd)\n",
    "        dgr.add_edge(str(node) + 's' + str(snd), snd)    \n",
    "    dgr.add_edges_from(m_edges)"
   ]
  },
  {
   "cell_type": "code",
   "execution_count": null,
   "id": "cfeb1c26-08cb-4348-a17c-0f8cfc3fadea",
   "metadata": {},
   "outputs": [],
   "source": [
    "def to_undi_nodes(iter_nodes, path=True):\n",
    "    for "
   ]
  },
  {
   "cell_type": "code",
   "execution_count": 27,
   "id": "ccf74c28-5083-4564-8713-3366859a53b8",
   "metadata": {},
   "outputs": [
    {
     "data": {
      "text/plain": [
       "'123s456'"
      ]
     },
     "execution_count": 27,
     "metadata": {},
     "output_type": "execute_result"
    }
   ],
   "source": [
    "\"123e456\".replace(\"e\", \"s\")"
   ]
  },
  {
   "cell_type": "code",
   "execution_count": 10,
   "id": "1aa687e7-7ff7-4d4e-8a4e-d920bc8e7172",
   "metadata": {},
   "outputs": [
    {
     "data": {
      "text/plain": [
       "[2, 3, 4]"
      ]
     },
     "execution_count": 10,
     "metadata": {},
     "output_type": "execute_result"
    }
   ],
   "source": [
    "gr = nx.Graph()\n",
    "gr.add_edges_from([(1, 2), (1, 3), (3,4), (2,3)])\n",
    "nx.shortest_path(gr, source=2, target=4)"
   ]
  },
  {
   "cell_type": "code",
   "execution_count": 11,
   "id": "3098d88f-6f42-43b9-a182-3eababade004",
   "metadata": {},
   "outputs": [
    {
     "data": {
      "text/plain": [
       "OutEdgeView([(1, 2), (1, 3), (2, 1), (2, 3), (3, 1), (3, 4), (3, 2), (4, 3)])"
      ]
     },
     "execution_count": 11,
     "metadata": {},
     "output_type": "execute_result"
    }
   ],
   "source": [
    "dgr = gr.to_directed()\n",
    "dgr.edges"
   ]
  },
  {
   "cell_type": "code",
   "execution_count": 12,
   "id": "c55bd422-211a-470a-9ad9-de52b786a02b",
   "metadata": {},
   "outputs": [
    {
     "data": {
      "text/plain": [
       "[2, 3, 4]"
      ]
     },
     "execution_count": 12,
     "metadata": {},
     "output_type": "execute_result"
    }
   ],
   "source": [
    "nx.shortest_path(dgr, source=2, target=4)"
   ]
  },
  {
   "cell_type": "code",
   "execution_count": 14,
   "id": "e3e0469e-c67b-4cf4-b713-517cec5b6cc5",
   "metadata": {},
   "outputs": [
    {
     "data": {
      "text/plain": [
       "[('3e1', '3s4'),\n",
       " ('3e1', '3s2'),\n",
       " ('3e2', '3s1'),\n",
       " ('3e2', '3s4'),\n",
       " ('3e4', '3s1'),\n",
       " ('3e4', '3s2')]"
      ]
     },
     "execution_count": 14,
     "metadata": {},
     "output_type": "execute_result"
    }
   ],
   "source": [
    "di_neighbors(dgr, 3)"
   ]
  },
  {
   "cell_type": "code",
   "execution_count": 15,
   "id": "92696ac8-e441-46ab-a07a-71d095deb816",
   "metadata": {},
   "outputs": [
    {
     "data": {
      "text/plain": [
       "[('3e2', '3s1'),\n",
       " ('3e4', '3s2'),\n",
       " ('3e4', '3s1'),\n",
       " ('3e1', '3s2'),\n",
       " ('3e1', '3s4')]"
      ]
     },
     "execution_count": 15,
     "metadata": {},
     "output_type": "execute_result"
    }
   ],
   "source": [
    "di_neighbors(dgr, 3, nopath=[(2,4)])"
   ]
  },
  {
   "cell_type": "code",
   "execution_count": 16,
   "id": "643538bd-b095-443c-8f8c-124075965567",
   "metadata": {},
   "outputs": [
    {
     "data": {
      "text/plain": [
       "([2, '3e2', '3s4', 4], [4, '3e4', '3s2', 2])"
      ]
     },
     "execution_count": 16,
     "metadata": {},
     "output_type": "execute_result"
    }
   ],
   "source": [
    "dgr = gr.to_directed()\n",
    "insert_di_nodes(dgr, 3)\n",
    "nx.shortest_path(dgr, source=2, target=4), nx.shortest_path(dgr, source=4, target=2)"
   ]
  },
  {
   "cell_type": "code",
   "execution_count": 17,
   "id": "88733c5a-4ba5-429b-9ec2-f5689a9c5275",
   "metadata": {},
   "outputs": [
    {
     "data": {
      "text/plain": [
       "([2, 1, '3e1', '3s4', 4], [4, '3e4', '3s2', 2])"
      ]
     },
     "execution_count": 17,
     "metadata": {},
     "output_type": "execute_result"
    }
   ],
   "source": [
    "dgr = gr.to_directed()\n",
    "insert_di_nodes(dgr, 3, nopath=[(2,4)])\n",
    "nx.shortest_path(dgr, source=2, target=4), nx.shortest_path(dgr, source=4, target=2)"
   ]
  }
 ],
 "metadata": {
  "kernelspec": {
   "display_name": "Python 3 (ipykernel)",
   "language": "python",
   "name": "python3"
  },
  "language_info": {
   "codemirror_mode": {
    "name": "ipython",
    "version": 3
   },
   "file_extension": ".py",
   "mimetype": "text/x-python",
   "name": "python",
   "nbconvert_exporter": "python",
   "pygments_lexer": "ipython3",
   "version": "3.12.4"
  }
 },
 "nbformat": 4,
 "nbformat_minor": 5
}
