{
 "cells": [
  {
   "cell_type": "code",
   "execution_count": 1,
   "id": "8edee9f6-8ed6-482d-81d4-189b31d816c4",
   "metadata": {},
   "outputs": [],
   "source": [
    "import unittest\n",
    "from itertools import product\n",
    "import copy\n",
    "from shapely import LineString, Point\n",
    "import geopandas as gpd\n",
    "import geo_nx as gnx \n",
    "import networkx as nx \n",
    "import pandas as pd\n",
    "import geo_nx.utils as utils\n",
    "from networkx.utils import graphs_equal\n",
    "\n",
    "paris = Point(2.3514, 48.8575)\n",
    "lyon = Point(4.8357, 45.7640)\n",
    "marseille = Point(5.3691, 43.3026)\n",
    "bordeaux = Point(-0.56667, 44.833328)\n",
    "\n",
    "SLICE = 10000"
   ]
  },
  {
   "cell_type": "code",
   "execution_count": 32,
   "id": "f6465f71-03c9-4170-a18c-789ab4baa338",
   "metadata": {},
   "outputs": [
    {
     "data": {
      "text/plain": [
       "{'weight': 391542.8889183051}"
      ]
     },
     "execution_count": 32,
     "metadata": {},
     "output_type": "execute_result"
    }
   ],
   "source": [
    "\n",
    "simplemap = gpd.GeoDataFrame({'geometry': [LineString([paris, lyon]), LineString([lyon, marseille]), \n",
    "    LineString([paris, bordeaux]), LineString([bordeaux, marseille])]}, crs=4326).to_crs(2154)\n",
    "gr_simple = gnx.from_geopandas_edgelist(simplemap)\n",
    "gr_simple.nodes[0]['city'] = 'paris'\n",
    "gr_simple.nodes[1]['ville'] = 'lyon'\n",
    "dgr_simple = gr_simple.to_directed()\n",
    "dgr_cop = dgr_simple.copy()\n",
    "nx.remove_edge_attributes(dgr_cop, \"geometry\")\n",
    "dgr_cop.edges[0, 1]"
   ]
  },
  {
   "cell_type": "code",
   "execution_count": 29,
   "id": "515ff3bc-d867-4512-aa3b-45436f4f9c73",
   "metadata": {},
   "outputs": [
    {
     "data": {
      "text/plain": [
       "{'geometry': <LINESTRING (652411.148 6862135.813, 842666.659 6519924.367)>,\n",
       " 'weight': 391542.8889183051}"
      ]
     },
     "execution_count": 29,
     "metadata": {},
     "output_type": "execute_result"
    }
   ],
   "source": [
    "dgr_simple.edges[0, 1]"
   ]
  },
  {
   "cell_type": "code",
   "execution_count": 4,
   "id": "95d9f357-dba5-4e2d-875f-a6f409e9e642",
   "metadata": {},
   "outputs": [],
   "source": [
    "def macro_node(dgr, node, uturn=False):\n",
    "    e_nodes = list(range(node * SLICE + 2, node * SLICE + 2 * (1 + len(list(dgr.neighbors(node)))), 2))\n",
    "    s_nodes = list(range(node * SLICE + 1, node * SLICE + 1 + 2 * len(list(dgr.neighbors(node))), 2))\n",
    "    i_edges = list(product(e_nodes, s_nodes))\n",
    "    if not uturn:\n",
    "        i_edges = [edge for edge in i_edges if edge[0] != edge[1] + 1]\n",
    "    return (e_nodes, s_nodes, i_edges)"
   ]
  },
  {
   "cell_type": "code",
   "execution_count": 5,
   "id": "2b50fb82-ae39-4e60-bfb6-80639446cee8",
   "metadata": {},
   "outputs": [],
   "source": [
    "def to_macro_node(dgr, node, uturn=False):\n",
    "    e_nodes, s_nodes, i_edges = macro_node(dgr, node, uturn)\n",
    "    pred_nodes = list(dgr.predecessors(node))\n",
    "    succ_nodes = list(dgr.successors(node))\n",
    "    for e_node, pnd in zip(e_nodes, pred_nodes):\n",
    "        dgr.remove_edge(pnd, node)\n",
    "        dgr.add_edges_from([(pnd, e_node, {'truc':1, 'mach': 'in'})])\n",
    "        #dgr.add_edge(pnd, e_node, {'truc':1, 'mach': 'in'})\n",
    "    for s_node, snd in zip(s_nodes, succ_nodes):\n",
    "        dgr.remove_edge(node, snd)\n",
    "        dgr.add_edges_from([(s_node, snd, {'truc':1, 'mach': 'in'})])\n",
    "        #dgr.add_edge(s_node, snd, {'truc':1, 'mach': 'in'})    \n",
    "    dgr.add_edges_from(i_edges)\n",
    "    dgr.remove_node(node)\n",
    "    dg_node = dgr.subgraph(e_nodes + s_nodes)\n",
    "    nx.set_node_attributes(dg_node, 'connecteur', 'nature')\n",
    "    nx.set_node_attributes(dg_node, None, 'geometry')\n",
    "    nx.set_edge_attributes(dg_node, 'connexion', 'nature')\n",
    "    nx.set_edge_attributes(dg_node, None, 'geometry')\n",
    "    nx.set_edge_attributes(dg_node, 0, 'weight')\n",
    "    nx.set_edge_attributes(dg_node, None, 'NATIONALRO')\n",
    "    return (e_nodes, s_nodes, i_edges)"
   ]
  },
  {
   "cell_type": "code",
   "execution_count": 6,
   "id": "c956fb95-db7d-406c-9272-953eb2a335a6",
   "metadata": {},
   "outputs": [],
   "source": [
    "def to_undirected_edges(edges):\n",
    "    ext_edges = [(edge[0] // SLICE, edge[1] // SLICE) for edge in edges if edge[0] // SLICE != edge[1] // SLICE]\n",
    "    return sorted(list(set([(min(edge), max(edge)) for edge in ext_edges])))\n",
    "    "
   ]
  },
  {
   "cell_type": "code",
   "execution_count": 7,
   "id": "2b6c4cc3-086f-4e7d-bfc0-4ff2750fe8f8",
   "metadata": {},
   "outputs": [
    {
     "data": {
      "text/plain": [
       "[(1, 2), (1, 3), (5, 3), (5, 6), (6, 5)]"
      ]
     },
     "execution_count": 7,
     "metadata": {},
     "output_type": "execute_result"
    }
   ],
   "source": [
    "2103 // 100; 2103 % 100; min((3,2))\n",
    "sorted(list(set( [ (5,6), (1,3), (5,6), (6,5), (1,2), (5,3)])))"
   ]
  },
  {
   "cell_type": "code",
   "execution_count": 8,
   "id": "070394ad-459a-48a3-b5b4-4bca91a7bfe4",
   "metadata": {},
   "outputs": [
    {
     "data": {
      "text/plain": [
       "OutEdgeView([(1, 2), (1, 3), (2, 1), (2, 3), (3, 1), (3, 4), (3, 2), (4, 3)])"
      ]
     },
     "execution_count": 8,
     "metadata": {},
     "output_type": "execute_result"
    }
   ],
   "source": [
    "gr = nx.Graph()\n",
    "gr.add_edges_from([(1, 2), (3, 1), (3,4), (2,3)])\n",
    "dgr = gr.to_directed()\n",
    "dgr.edges"
   ]
  },
  {
   "cell_type": "code",
   "execution_count": 9,
   "id": "ec86be85-4dc4-48da-aa1d-7e316f5194b4",
   "metadata": {},
   "outputs": [
    {
     "data": {
      "text/plain": [
       "EdgeView([(1, 2), (1, 3), (2, 3), (3, 4)])"
      ]
     },
     "execution_count": 9,
     "metadata": {},
     "output_type": "execute_result"
    }
   ],
   "source": [
    "gr.edges"
   ]
  },
  {
   "cell_type": "code",
   "execution_count": 10,
   "id": "593b575b-4bbd-42b4-acd7-e0159159d590",
   "metadata": {},
   "outputs": [
    {
     "data": {
      "text/plain": [
       "{}"
      ]
     },
     "execution_count": 10,
     "metadata": {},
     "output_type": "execute_result"
    }
   ],
   "source": [
    "gr.edges[1,2]"
   ]
  },
  {
   "cell_type": "code",
   "execution_count": 11,
   "id": "c2c2247e-35a3-4da8-990d-f2642b9e33a5",
   "metadata": {},
   "outputs": [
    {
     "data": {
      "text/plain": [
       "[1, 2, 3, 4]"
      ]
     },
     "execution_count": 11,
     "metadata": {},
     "output_type": "execute_result"
    }
   ],
   "source": [
    "nodes = list(dgr.nodes)\n",
    "for node in nodes:\n",
    "    to_macro_node(dgr, node)\n",
    "nodes"
   ]
  },
  {
   "cell_type": "code",
   "execution_count": 12,
   "id": "7b770111-4af6-4505-b024-798180002c8e",
   "metadata": {},
   "outputs": [
    {
     "data": {
      "text/plain": [
       "NodeView((10002, 10004, 10001, 10003, 20002, 20004, 20001, 20003, 30002, 30004, 30006, 30001, 30003, 30005, 40002, 40001))"
      ]
     },
     "execution_count": 12,
     "metadata": {},
     "output_type": "execute_result"
    }
   ],
   "source": [
    "dgr.nodes"
   ]
  },
  {
   "cell_type": "code",
   "execution_count": 13,
   "id": "ddb78eb4-0b3c-4351-aade-a4d17c02e26b",
   "metadata": {},
   "outputs": [
    {
     "data": {
      "text/plain": [
       "OutEdgeView([(10002, 10003), (10004, 10001), (10001, 20004), (10003, 30004), (20002, 20003), (20004, 20001), (20001, 30006), (20003, 10002), (30002, 30003), (30002, 30005), (30004, 30001), (30004, 30005), (30006, 30001), (30006, 30003), (30001, 40002), (30003, 10004), (30005, 20002), (40001, 30002)])"
      ]
     },
     "execution_count": 13,
     "metadata": {},
     "output_type": "execute_result"
    }
   ],
   "source": [
    "dgr.edges"
   ]
  },
  {
   "cell_type": "code",
   "execution_count": 14,
   "id": "370b3e85-40a5-48e4-a686-42fbe6f997e1",
   "metadata": {},
   "outputs": [
    {
     "data": {
      "text/plain": [
       "[2, 3, 4]"
      ]
     },
     "execution_count": 14,
     "metadata": {},
     "output_type": "execute_result"
    }
   ],
   "source": [
    "nx.shortest_path(gr, source=2, target=4, weight='weight')"
   ]
  },
  {
   "cell_type": "code",
   "execution_count": 15,
   "id": "635c7b9f-3009-4e38-977d-0e520f5e9f8d",
   "metadata": {},
   "outputs": [
    {
     "data": {
      "text/plain": [
       "[20001, 30006, 30001, 40002]"
      ]
     },
     "execution_count": 15,
     "metadata": {},
     "output_type": "execute_result"
    }
   ],
   "source": [
    "nx.shortest_path(dgr, source=20001, target=40002) #, weight='weight')"
   ]
  },
  {
   "cell_type": "code",
   "execution_count": 16,
   "id": "922605e8-82e6-4de8-84fe-7c6b99806b0c",
   "metadata": {},
   "outputs": [
    {
     "name": "stdout",
     "output_type": "stream",
     "text": [
      "{'nature': 'connexion', 'geometry': None, 'weight': 0, 'NATIONALRO': None}\n",
      "{'nature': 'connexion', 'geometry': None, 'weight': 0, 'NATIONALRO': None}\n",
      "{'truc': 1, 'mach': 'in'}\n",
      "{'truc': 1, 'mach': 'in'}\n",
      "{'nature': 'connexion', 'geometry': None, 'weight': 0, 'NATIONALRO': None}\n",
      "{'nature': 'connexion', 'geometry': None, 'weight': 0, 'NATIONALRO': None}\n",
      "{'truc': 1, 'mach': 'in'}\n",
      "{'truc': 1, 'mach': 'in'}\n",
      "{'nature': 'connexion', 'geometry': None, 'weight': 0, 'NATIONALRO': None}\n",
      "{'nature': 'connexion', 'geometry': None, 'weight': 0, 'NATIONALRO': None}\n",
      "{'nature': 'connexion', 'geometry': None, 'weight': 0, 'NATIONALRO': None}\n",
      "{'nature': 'connexion', 'geometry': None, 'weight': 0, 'NATIONALRO': None}\n",
      "{'nature': 'connexion', 'geometry': None, 'weight': 0, 'NATIONALRO': None}\n",
      "{'nature': 'connexion', 'geometry': None, 'weight': 0, 'NATIONALRO': None}\n",
      "{'truc': 1, 'mach': 'in'}\n",
      "{'truc': 1, 'mach': 'in'}\n",
      "{'truc': 1, 'mach': 'in'}\n",
      "{'truc': 1, 'mach': 'in'}\n"
     ]
    }
   ],
   "source": [
    "for edge in dgr.edges:\n",
    "    print(dgr.edges[edge])"
   ]
  },
  {
   "cell_type": "code",
   "execution_count": 17,
   "id": "ea65eaff-6dfd-45ca-b64c-ab241a8e9521",
   "metadata": {},
   "outputs": [
    {
     "data": {
      "text/plain": [
       "({'nature': 'connexion', 'geometry': None, 'weight': 0, 'NATIONALRO': None},\n",
       " {'truc': 1, 'mach': 'in'})"
      ]
     },
     "execution_count": 17,
     "metadata": {},
     "output_type": "execute_result"
    }
   ],
   "source": [
    "(dgr.edges[10002, 10003], dgr.edges[10003, 30004] )"
   ]
  },
  {
   "cell_type": "code",
   "execution_count": null,
   "id": "1802ba50-b552-4e58-97cd-d8370b635aec",
   "metadata": {},
   "outputs": [],
   "source": []
  },
  {
   "cell_type": "code",
   "execution_count": 18,
   "id": "48c2f29f-94fb-474e-959f-69782c095c5b",
   "metadata": {},
   "outputs": [
    {
     "name": "stdout",
     "output_type": "stream",
     "text": [
      "[(1, 2), (1, 3), (2, 3), (3, 4)] [(1, 2), (1, 3), (2, 3), (3, 4)]\n"
     ]
    },
    {
     "data": {
      "text/plain": [
       "True"
      ]
     },
     "execution_count": 18,
     "metadata": {},
     "output_type": "execute_result"
    }
   ],
   "source": [
    "print(to_undirected_edges(dgr.edges), list(gr.edges))\n",
    "to_undirected_edges(dgr.edges) == list(gr.edges)"
   ]
  },
  {
   "cell_type": "code",
   "execution_count": 19,
   "id": "6196df27-d087-4c5a-afc2-4639044883f1",
   "metadata": {},
   "outputs": [],
   "source": [
    "\n",
    "def di_neighbors(dgr, node, uturn=False, nopath=None):\n",
    "    e_nodes = [str(node) + 'e'+ str(pnd) for pnd in dgr.predecessors(node)]\n",
    "    s_nodes = [str(node) + 's'+ str(snd) for snd in dgr.successors(node)]\n",
    "    m_edges = list(product(e_nodes, s_nodes))\n",
    "    if not uturn:\n",
    "        m_edges = [edge for edge in m_edges if edge[0].replace(\"e\", \"s\") != edge[1]]\n",
    "    if nopath:\n",
    "        no_edges = [ (str(node) + 'e' + str(edge[0]), str(node) + 's' + str(edge[1])) for edge in nopath]\n",
    "        return list(set(m_edges) - set(no_edges))\n",
    "    return m_edges"
   ]
  },
  {
   "cell_type": "code",
   "execution_count": 20,
   "id": "021acea3-8555-4fef-af3a-db7a0e309c9d",
   "metadata": {},
   "outputs": [],
   "source": [
    "def insert_di_nodes(dgr, node, uturn=False, nopath=None):\n",
    "    m_edges = di_neighbors(dgr, node, uturn, nopath)\n",
    "    pred_nodes = list(dgr.predecessors(node))\n",
    "    succ_nodes = list(dgr.successors(node))\n",
    "    for pnd in pred_nodes:\n",
    "        dgr.remove_edge(pnd, node)\n",
    "        dgr.add_edge(pnd, str(node) + 'e' + str(pnd))\n",
    "    for snd in succ_nodes:\n",
    "        dgr.remove_edge(node, snd)\n",
    "        dgr.add_edge(str(node) + 's' + str(snd), snd)    \n",
    "    dgr.add_edges_from(m_edges)"
   ]
  },
  {
   "cell_type": "code",
   "execution_count": 21,
   "id": "ccf74c28-5083-4564-8713-3366859a53b8",
   "metadata": {},
   "outputs": [
    {
     "data": {
      "text/plain": [
       "'123s456'"
      ]
     },
     "execution_count": 21,
     "metadata": {},
     "output_type": "execute_result"
    }
   ],
   "source": [
    "\"123e456\".replace(\"e\", \"s\")"
   ]
  },
  {
   "cell_type": "code",
   "execution_count": 22,
   "id": "1aa687e7-7ff7-4d4e-8a4e-d920bc8e7172",
   "metadata": {},
   "outputs": [
    {
     "data": {
      "text/plain": [
       "[2, 3, 4]"
      ]
     },
     "execution_count": 22,
     "metadata": {},
     "output_type": "execute_result"
    }
   ],
   "source": [
    "gr = nx.Graph()\n",
    "gr.add_edges_from([(1, 2), (1, 3), (3,4), (2,3)])\n",
    "nx.shortest_path(gr, source=2, target=4)"
   ]
  },
  {
   "cell_type": "code",
   "execution_count": 23,
   "id": "3098d88f-6f42-43b9-a182-3eababade004",
   "metadata": {},
   "outputs": [
    {
     "data": {
      "text/plain": [
       "OutEdgeView([(1, 2), (1, 3), (2, 1), (2, 3), (3, 1), (3, 4), (3, 2), (4, 3)])"
      ]
     },
     "execution_count": 23,
     "metadata": {},
     "output_type": "execute_result"
    }
   ],
   "source": [
    "dgr = gr.to_directed()\n",
    "dgr.edges"
   ]
  },
  {
   "cell_type": "code",
   "execution_count": 24,
   "id": "c55bd422-211a-470a-9ad9-de52b786a02b",
   "metadata": {},
   "outputs": [
    {
     "data": {
      "text/plain": [
       "[2, 3, 4]"
      ]
     },
     "execution_count": 24,
     "metadata": {},
     "output_type": "execute_result"
    }
   ],
   "source": [
    "nx.shortest_path(dgr, source=2, target=4)"
   ]
  },
  {
   "cell_type": "code",
   "execution_count": 25,
   "id": "e3e0469e-c67b-4cf4-b713-517cec5b6cc5",
   "metadata": {},
   "outputs": [
    {
     "data": {
      "text/plain": [
       "[('3e1', '3s4'),\n",
       " ('3e1', '3s2'),\n",
       " ('3e2', '3s1'),\n",
       " ('3e2', '3s4'),\n",
       " ('3e4', '3s1'),\n",
       " ('3e4', '3s2')]"
      ]
     },
     "execution_count": 25,
     "metadata": {},
     "output_type": "execute_result"
    }
   ],
   "source": [
    "di_neighbors(dgr, 3)"
   ]
  },
  {
   "cell_type": "code",
   "execution_count": 26,
   "id": "92696ac8-e441-46ab-a07a-71d095deb816",
   "metadata": {},
   "outputs": [
    {
     "data": {
      "text/plain": [
       "[('3e2', '3s1'),\n",
       " ('3e1', '3s4'),\n",
       " ('3e1', '3s2'),\n",
       " ('3e4', '3s2'),\n",
       " ('3e4', '3s1')]"
      ]
     },
     "execution_count": 26,
     "metadata": {},
     "output_type": "execute_result"
    }
   ],
   "source": [
    "di_neighbors(dgr, 3, nopath=[(2,4)])"
   ]
  },
  {
   "cell_type": "code",
   "execution_count": 27,
   "id": "643538bd-b095-443c-8f8c-124075965567",
   "metadata": {},
   "outputs": [
    {
     "data": {
      "text/plain": [
       "([2, '3e2', '3s4', 4], [4, '3e4', '3s2', 2])"
      ]
     },
     "execution_count": 27,
     "metadata": {},
     "output_type": "execute_result"
    }
   ],
   "source": [
    "dgr = gr.to_directed()\n",
    "insert_di_nodes(dgr, 3)\n",
    "nx.shortest_path(dgr, source=2, target=4), nx.shortest_path(dgr, source=4, target=2)"
   ]
  },
  {
   "cell_type": "code",
   "execution_count": 28,
   "id": "88733c5a-4ba5-429b-9ec2-f5689a9c5275",
   "metadata": {},
   "outputs": [
    {
     "data": {
      "text/plain": [
       "([2, 1, '3e1', '3s4', 4], [4, '3e4', '3s2', 2])"
      ]
     },
     "execution_count": 28,
     "metadata": {},
     "output_type": "execute_result"
    }
   ],
   "source": [
    "dgr = gr.to_directed()\n",
    "insert_di_nodes(dgr, 3, nopath=[(2,4)])\n",
    "nx.shortest_path(dgr, source=2, target=4), nx.shortest_path(dgr, source=4, target=2)"
   ]
  },
  {
   "cell_type": "code",
   "execution_count": null,
   "id": "1d7ff439-3fb5-491c-a2b0-fed9b7fbb3a9",
   "metadata": {},
   "outputs": [],
   "source": []
  }
 ],
 "metadata": {
  "kernelspec": {
   "display_name": "Python 3 (ipykernel)",
   "language": "python",
   "name": "python3"
  },
  "language_info": {
   "codemirror_mode": {
    "name": "ipython",
    "version": 3
   },
   "file_extension": ".py",
   "mimetype": "text/x-python",
   "name": "python",
   "nbconvert_exporter": "python",
   "pygments_lexer": "ipython3",
   "version": "3.12.4"
  }
 },
 "nbformat": 4,
 "nbformat_minor": 5
}
