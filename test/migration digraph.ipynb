{
 "cells": [
  {
   "cell_type": "code",
   "execution_count": 4,
   "id": "ff63efa7-5bdd-496b-8d48-5afcbda77124",
   "metadata": {},
   "outputs": [],
   "source": [
    "import json, copy\n",
    "from shapely import LineString, Point\n",
    "import numpy as np\n",
    "import geopandas as gpd\n",
    "import pandas as pd\n",
    "import geo_nx as gnx \n",
    "import networkx as nx \n",
    "\n",
    "from geo_nx import geom_to_crs, cast_id\n",
    "#from ..notebooks.fonction_rtet import insertion_noeuds, proximite, insertion_projection, association_stations\n",
    "#from interfaces import creation_pandas_stations\n",
    "#from afir import Afir\n",
    "\n",
    "data_path = '../data/'\n",
    "rtet_path = '../rtet/'\n",
    "refnat = {'tiles': 'cartodbpositron', 'location': [46.3, 2.3], 'zoom_start': 5}\n",
    "\n",
    "vl_central_2025 = {'central': True, 'pcum': 400,  'pmax': 150, 'dist': 60000}\n",
    "vl_central_2027 = {'central': True, 'pcum': 600,  'pmax': 150, 'dist': 60000}\n",
    "vl_global_2027 = {'central': False, 'pcum': 300,  'pmax': 150, 'dist': 60000}\n",
    "pl_global_2025 = {'central': False, 'pcum': 1400, 'pmax': 350, 'dist': 120000}\n",
    "pl_central_2027 = {'central': True, 'pcum': 2800, 'pmax': 350, 'dist': 120000}\n",
    "#pl_global_2027 = pl_global_2025\n",
    "\n",
    "version = 'V1'"
   ]
  }
 ],
 "metadata": {
  "kernelspec": {
   "display_name": "Python 3 (ipykernel)",
   "language": "python",
   "name": "python3"
  },
  "language_info": {
   "codemirror_mode": {
    "name": "ipython",
    "version": 3
   },
   "file_extension": ".py",
   "mimetype": "text/x-python",
   "name": "python",
   "nbconvert_exporter": "python",
   "pygments_lexer": "ipython3",
   "version": "3.12.4"
  }
 },
 "nbformat": 4,
 "nbformat_minor": 5
}
